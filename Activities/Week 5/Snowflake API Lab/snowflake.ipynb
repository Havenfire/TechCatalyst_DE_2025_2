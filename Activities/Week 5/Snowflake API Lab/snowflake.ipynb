{
 "cells": [
  {
   "cell_type": "markdown",
   "id": "709ac9fa",
   "metadata": {},
   "source": [
    "# Lab 1: Reading from Snowflake"
   ]
  },
  {
   "cell_type": "markdown",
   "id": "110ea4dc",
   "metadata": {},
   "source": [
    "## Using Snowflake Connector"
   ]
  },
  {
   "cell_type": "code",
   "execution_count": 13,
   "id": "f4c64130",
   "metadata": {},
   "outputs": [
    {
     "name": "stdout",
     "output_type": "stream",
     "text": [
      "\u001b[2mAudited \u001b[1m1 package\u001b[0m \u001b[2min 3ms\u001b[0m\u001b[0m\n"
     ]
    }
   ],
   "source": [
    "!uv pip install \"snowflake-connector-python[pandas]\""
   ]
  },
  {
   "cell_type": "code",
   "execution_count": 14,
   "id": "7ed68e04",
   "metadata": {},
   "outputs": [
    {
     "name": "stdout",
     "output_type": "stream",
     "text": [
      "['READ', 'WRITE']\n"
     ]
    }
   ],
   "source": [
    "import pandas as pd\n",
    "from snowflake import connector\n",
    "from configparser import ConfigParser\n",
    "\n",
    "config = ConfigParser()\n",
    "config.read('snow.cfg')\n",
    "\n",
    "print(config.sections())"
   ]
  },
  {
   "cell_type": "code",
   "execution_count": 15,
   "id": "b3ea1a3a",
   "metadata": {},
   "outputs": [],
   "source": [
    "params = dict(config['READ'])"
   ]
  },
  {
   "cell_type": "code",
   "execution_count": 16,
   "id": "4cfbc638",
   "metadata": {},
   "outputs": [],
   "source": [
    "import snowflake.connector \n",
    "\n",
    "con = connector.connect(**params)"
   ]
  },
  {
   "cell_type": "code",
   "execution_count": 17,
   "id": "f7d9e090",
   "metadata": {},
   "outputs": [
    {
     "name": "stdout",
     "output_type": "stream",
     "text": [
      "SNOWFLAKE_SAMPLE_DATA\n"
     ]
    }
   ],
   "source": [
    "# let's make sure we can connect\n",
    "print(con.database)"
   ]
  },
  {
   "cell_type": "code",
   "execution_count": 18,
   "id": "bef8a699",
   "metadata": {},
   "outputs": [
    {
     "data": {
      "text/plain": [
       "<snowflake.connector.cursor.SnowflakeCursor at 0x75bf87664440>"
      ]
     },
     "execution_count": 18,
     "metadata": {},
     "output_type": "execute_result"
    }
   ],
   "source": [
    "cursor = con.cursor()\n",
    "cursor.execute('SELECT * FROM ORDERS LIMIT 100;')"
   ]
  },
  {
   "cell_type": "code",
   "execution_count": 19,
   "id": "e0d20e3f",
   "metadata": {},
   "outputs": [
    {
     "data": {
      "text/plain": [
       "[ResultMetadata(name='O_ORDERKEY', type_code=0, display_size=None, internal_size=None, precision=38, scale=0, is_nullable=False),\n",
       " ResultMetadata(name='O_CUSTKEY', type_code=0, display_size=None, internal_size=None, precision=38, scale=0, is_nullable=False),\n",
       " ResultMetadata(name='O_ORDERSTATUS', type_code=2, display_size=None, internal_size=1, precision=None, scale=None, is_nullable=False),\n",
       " ResultMetadata(name='O_TOTALPRICE', type_code=0, display_size=None, internal_size=None, precision=12, scale=2, is_nullable=False),\n",
       " ResultMetadata(name='O_ORDERDATE', type_code=3, display_size=None, internal_size=None, precision=None, scale=None, is_nullable=False),\n",
       " ResultMetadata(name='O_ORDERPRIORITY', type_code=2, display_size=None, internal_size=15, precision=None, scale=None, is_nullable=False),\n",
       " ResultMetadata(name='O_CLERK', type_code=2, display_size=None, internal_size=15, precision=None, scale=None, is_nullable=False),\n",
       " ResultMetadata(name='O_SHIPPRIORITY', type_code=0, display_size=None, internal_size=None, precision=38, scale=0, is_nullable=False),\n",
       " ResultMetadata(name='O_COMMENT', type_code=2, display_size=None, internal_size=79, precision=None, scale=None, is_nullable=False)]"
      ]
     },
     "execution_count": 19,
     "metadata": {},
     "output_type": "execute_result"
    }
   ],
   "source": [
    "cursor.description"
   ]
  },
  {
   "cell_type": "code",
   "execution_count": 20,
   "id": "fc430552",
   "metadata": {},
   "outputs": [
    {
     "data": {
      "text/plain": [
       "100"
      ]
     },
     "execution_count": 20,
     "metadata": {},
     "output_type": "execute_result"
    }
   ],
   "source": [
    "# you will see zero rows returned if you run this because the query has not been executed yet\n",
    "# all cursor.describe does is return the metadata of the query\n",
    "# cursor is lazy, it does not execute the query until you call fetch\n",
    "\n",
    "cursor.rowcount"
   ]
  },
  {
   "cell_type": "code",
   "execution_count": 21,
   "id": "3d96a484",
   "metadata": {},
   "outputs": [
    {
     "data": {
      "text/plain": [
       "[ResultMetadata(name='O_ORDERKEY', type_code=0, display_size=None, internal_size=None, precision=38, scale=0, is_nullable=False),\n",
       " ResultMetadata(name='O_CUSTKEY', type_code=0, display_size=None, internal_size=None, precision=38, scale=0, is_nullable=False),\n",
       " ResultMetadata(name='O_ORDERSTATUS', type_code=2, display_size=None, internal_size=1, precision=None, scale=None, is_nullable=False),\n",
       " ResultMetadata(name='O_TOTALPRICE', type_code=0, display_size=None, internal_size=None, precision=12, scale=2, is_nullable=False),\n",
       " ResultMetadata(name='O_ORDERDATE', type_code=3, display_size=None, internal_size=None, precision=None, scale=None, is_nullable=False),\n",
       " ResultMetadata(name='O_ORDERPRIORITY', type_code=2, display_size=None, internal_size=15, precision=None, scale=None, is_nullable=False),\n",
       " ResultMetadata(name='O_CLERK', type_code=2, display_size=None, internal_size=15, precision=None, scale=None, is_nullable=False),\n",
       " ResultMetadata(name='O_SHIPPRIORITY', type_code=0, display_size=None, internal_size=None, precision=38, scale=0, is_nullable=False),\n",
       " ResultMetadata(name='O_COMMENT', type_code=2, display_size=None, internal_size=79, precision=None, scale=None, is_nullable=False)]"
      ]
     },
     "execution_count": 21,
     "metadata": {},
     "output_type": "execute_result"
    }
   ],
   "source": [
    "cursor.describe('SELECT * FROM ORDERS LIMIT 100;')"
   ]
  },
  {
   "cell_type": "code",
   "execution_count": 22,
   "id": "696d73bb",
   "metadata": {},
   "outputs": [
    {
     "name": "stdout",
     "output_type": "stream",
     "text": [
      "100\n"
     ]
    }
   ],
   "source": [
    "query = \"SELECT * FROM ORDERS LIMIT 100;\" #write query outside and you can put in the variable in execute\n",
    "cursor.execute(query)\n",
    "\n",
    "print(cursor.rowcount)"
   ]
  },
  {
   "cell_type": "code",
   "execution_count": 23,
   "id": "adc3bd7f",
   "metadata": {},
   "outputs": [
    {
     "name": "stdout",
     "output_type": "stream",
     "text": [
      "Requirement already satisfied: pandas in /home/codespace/.local/lib/python3.12/site-packages (2.3.1)\n",
      "Requirement already satisfied: numpy>=1.26.0 in /home/codespace/.local/lib/python3.12/site-packages (from pandas) (2.3.1)\n",
      "Requirement already satisfied: python-dateutil>=2.8.2 in /home/codespace/.local/lib/python3.12/site-packages (from pandas) (2.9.0.post0)\n",
      "Requirement already satisfied: pytz>=2020.1 in /home/codespace/.local/lib/python3.12/site-packages (from pandas) (2025.2)\n",
      "Requirement already satisfied: tzdata>=2022.7 in /home/codespace/.local/lib/python3.12/site-packages (from pandas) (2025.2)\n",
      "Requirement already satisfied: six>=1.5 in /home/codespace/.local/lib/python3.12/site-packages (from python-dateutil>=2.8.2->pandas) (1.17.0)\n",
      "Note: you may need to restart the kernel to use updated packages.\n"
     ]
    }
   ],
   "source": [
    "%pip install pandas"
   ]
  },
  {
   "cell_type": "code",
   "execution_count": 24,
   "id": "d0217677",
   "metadata": {},
   "outputs": [
    {
     "name": "stdout",
     "output_type": "stream",
     "text": [
      "Requirement already satisfied: snowflake-connector-python[pandas,secure-local-storage] in /usr/local/python/3.12.1/lib/python3.12/site-packages (3.16.0)\n",
      "Requirement already satisfied: asn1crypto<2.0.0,>0.24.0 in /usr/local/python/3.12.1/lib/python3.12/site-packages (from snowflake-connector-python[pandas,secure-local-storage]) (1.5.1)\n",
      "Requirement already satisfied: boto3>=1.24 in /usr/local/python/3.12.1/lib/python3.12/site-packages (from snowflake-connector-python[pandas,secure-local-storage]) (1.39.14)\n",
      "Requirement already satisfied: botocore>=1.24 in /usr/local/python/3.12.1/lib/python3.12/site-packages (from snowflake-connector-python[pandas,secure-local-storage]) (1.39.14)\n",
      "Requirement already satisfied: cffi<2.0.0,>=1.9 in /home/codespace/.local/lib/python3.12/site-packages (from snowflake-connector-python[pandas,secure-local-storage]) (1.17.1)\n",
      "Requirement already satisfied: cryptography>=3.1.0 in /usr/local/python/3.12.1/lib/python3.12/site-packages (from snowflake-connector-python[pandas,secure-local-storage]) (45.0.5)\n",
      "Requirement already satisfied: pyOpenSSL<26.0.0,>=22.0.0 in /usr/local/python/3.12.1/lib/python3.12/site-packages (from snowflake-connector-python[pandas,secure-local-storage]) (25.1.0)\n",
      "Requirement already satisfied: pyjwt<3.0.0 in /usr/local/python/3.12.1/lib/python3.12/site-packages (from snowflake-connector-python[pandas,secure-local-storage]) (2.10.1)\n",
      "Requirement already satisfied: pytz in /home/codespace/.local/lib/python3.12/site-packages (from snowflake-connector-python[pandas,secure-local-storage]) (2025.2)\n",
      "Requirement already satisfied: requests<3.0.0 in /home/codespace/.local/lib/python3.12/site-packages (from snowflake-connector-python[pandas,secure-local-storage]) (2.32.4)\n",
      "Requirement already satisfied: packaging in /home/codespace/.local/lib/python3.12/site-packages (from snowflake-connector-python[pandas,secure-local-storage]) (25.0)\n",
      "Requirement already satisfied: charset_normalizer<4,>=2 in /home/codespace/.local/lib/python3.12/site-packages (from snowflake-connector-python[pandas,secure-local-storage]) (3.4.2)\n",
      "Requirement already satisfied: idna<4,>=2.5 in /home/codespace/.local/lib/python3.12/site-packages (from snowflake-connector-python[pandas,secure-local-storage]) (3.10)\n",
      "Requirement already satisfied: certifi>=2017.4.17 in /home/codespace/.local/lib/python3.12/site-packages (from snowflake-connector-python[pandas,secure-local-storage]) (2025.7.9)\n",
      "Requirement already satisfied: typing_extensions<5,>=4.3 in /home/codespace/.local/lib/python3.12/site-packages (from snowflake-connector-python[pandas,secure-local-storage]) (4.14.1)\n",
      "Requirement already satisfied: filelock<4,>=3.5 in /home/codespace/.local/lib/python3.12/site-packages (from snowflake-connector-python[pandas,secure-local-storage]) (3.13.1)\n",
      "Requirement already satisfied: sortedcontainers>=2.4.0 in /usr/local/python/3.12.1/lib/python3.12/site-packages (from snowflake-connector-python[pandas,secure-local-storage]) (2.4.0)\n",
      "Requirement already satisfied: platformdirs<5.0.0,>=2.6.0 in /home/codespace/.local/lib/python3.12/site-packages (from snowflake-connector-python[pandas,secure-local-storage]) (4.3.8)\n",
      "Requirement already satisfied: tomlkit in /usr/local/python/3.12.1/lib/python3.12/site-packages (from snowflake-connector-python[pandas,secure-local-storage]) (0.13.3)\n",
      "Requirement already satisfied: pandas<3.0.0,>=2.1.2 in /home/codespace/.local/lib/python3.12/site-packages (from snowflake-connector-python[pandas,secure-local-storage]) (2.3.1)\n",
      "Requirement already satisfied: pyarrow<19.0.0 in /usr/local/python/3.12.1/lib/python3.12/site-packages (from snowflake-connector-python[pandas,secure-local-storage]) (18.1.0)\n",
      "Requirement already satisfied: keyring<26.0.0,>=23.1.0 in /usr/local/python/3.12.1/lib/python3.12/site-packages (from snowflake-connector-python[pandas,secure-local-storage]) (25.6.0)\n",
      "Requirement already satisfied: pycparser in /home/codespace/.local/lib/python3.12/site-packages (from cffi<2.0.0,>=1.9->snowflake-connector-python[pandas,secure-local-storage]) (2.22)\n",
      "Requirement already satisfied: SecretStorage>=3.2 in /usr/local/python/3.12.1/lib/python3.12/site-packages (from keyring<26.0.0,>=23.1.0->snowflake-connector-python[pandas,secure-local-storage]) (3.3.3)\n",
      "Requirement already satisfied: jeepney>=0.4.2 in /usr/local/python/3.12.1/lib/python3.12/site-packages (from keyring<26.0.0,>=23.1.0->snowflake-connector-python[pandas,secure-local-storage]) (0.9.0)\n",
      "Requirement already satisfied: jaraco.classes in /usr/local/python/3.12.1/lib/python3.12/site-packages (from keyring<26.0.0,>=23.1.0->snowflake-connector-python[pandas,secure-local-storage]) (3.4.0)\n",
      "Requirement already satisfied: jaraco.functools in /usr/local/python/3.12.1/lib/python3.12/site-packages (from keyring<26.0.0,>=23.1.0->snowflake-connector-python[pandas,secure-local-storage]) (4.2.1)\n",
      "Requirement already satisfied: jaraco.context in /usr/local/python/3.12.1/lib/python3.12/site-packages (from keyring<26.0.0,>=23.1.0->snowflake-connector-python[pandas,secure-local-storage]) (6.0.1)\n",
      "Requirement already satisfied: numpy>=1.26.0 in /home/codespace/.local/lib/python3.12/site-packages (from pandas<3.0.0,>=2.1.2->snowflake-connector-python[pandas,secure-local-storage]) (2.3.1)\n",
      "Requirement already satisfied: python-dateutil>=2.8.2 in /home/codespace/.local/lib/python3.12/site-packages (from pandas<3.0.0,>=2.1.2->snowflake-connector-python[pandas,secure-local-storage]) (2.9.0.post0)\n",
      "Requirement already satisfied: tzdata>=2022.7 in /home/codespace/.local/lib/python3.12/site-packages (from pandas<3.0.0,>=2.1.2->snowflake-connector-python[pandas,secure-local-storage]) (2025.2)\n",
      "Requirement already satisfied: urllib3<3,>=1.21.1 in /home/codespace/.local/lib/python3.12/site-packages (from requests<3.0.0->snowflake-connector-python[pandas,secure-local-storage]) (2.5.0)\n",
      "Requirement already satisfied: jmespath<2.0.0,>=0.7.1 in /usr/local/python/3.12.1/lib/python3.12/site-packages (from boto3>=1.24->snowflake-connector-python[pandas,secure-local-storage]) (1.0.1)\n",
      "Requirement already satisfied: s3transfer<0.14.0,>=0.13.0 in /usr/local/python/3.12.1/lib/python3.12/site-packages (from boto3>=1.24->snowflake-connector-python[pandas,secure-local-storage]) (0.13.1)\n",
      "Requirement already satisfied: six>=1.5 in /home/codespace/.local/lib/python3.12/site-packages (from python-dateutil>=2.8.2->pandas<3.0.0,>=2.1.2->snowflake-connector-python[pandas,secure-local-storage]) (1.17.0)\n",
      "Requirement already satisfied: more-itertools in /usr/local/python/3.12.1/lib/python3.12/site-packages (from jaraco.classes->keyring<26.0.0,>=23.1.0->snowflake-connector-python[pandas,secure-local-storage]) (10.7.0)\n"
     ]
    }
   ],
   "source": [
    "!pip install \"snowflake-connector-python[secure-local-storage,pandas]\""
   ]
  },
  {
   "cell_type": "code",
   "execution_count": 25,
   "id": "a8ae4b4d",
   "metadata": {},
   "outputs": [
    {
     "name": "stdout",
     "output_type": "stream",
     "text": [
      "Requirement already satisfied: pandas in /home/codespace/.local/lib/python3.12/site-packages (2.3.1)\n",
      "Requirement already satisfied: numpy>=1.26.0 in /home/codespace/.local/lib/python3.12/site-packages (from pandas) (2.3.1)\n",
      "Requirement already satisfied: python-dateutil>=2.8.2 in /home/codespace/.local/lib/python3.12/site-packages (from pandas) (2.9.0.post0)\n",
      "Requirement already satisfied: pytz>=2020.1 in /home/codespace/.local/lib/python3.12/site-packages (from pandas) (2025.2)\n",
      "Requirement already satisfied: tzdata>=2022.7 in /home/codespace/.local/lib/python3.12/site-packages (from pandas) (2025.2)\n",
      "Requirement already satisfied: six>=1.5 in /home/codespace/.local/lib/python3.12/site-packages (from python-dateutil>=2.8.2->pandas) (1.17.0)\n"
     ]
    }
   ],
   "source": [
    "! pip install pandas\n"
   ]
  },
  {
   "cell_type": "code",
   "execution_count": 26,
   "id": "41a90dcd",
   "metadata": {},
   "outputs": [
    {
     "data": {
      "text/html": [
       "<div>\n",
       "<style scoped>\n",
       "    .dataframe tbody tr th:only-of-type {\n",
       "        vertical-align: middle;\n",
       "    }\n",
       "\n",
       "    .dataframe tbody tr th {\n",
       "        vertical-align: top;\n",
       "    }\n",
       "\n",
       "    .dataframe thead th {\n",
       "        text-align: right;\n",
       "    }\n",
       "</style>\n",
       "<table border=\"1\" class=\"dataframe\">\n",
       "  <thead>\n",
       "    <tr style=\"text-align: right;\">\n",
       "      <th></th>\n",
       "      <th>O_ORDERKEY</th>\n",
       "      <th>O_CUSTKEY</th>\n",
       "      <th>O_ORDERSTATUS</th>\n",
       "      <th>O_TOTALPRICE</th>\n",
       "      <th>O_ORDERDATE</th>\n",
       "      <th>O_ORDERPRIORITY</th>\n",
       "      <th>O_CLERK</th>\n",
       "      <th>O_SHIPPRIORITY</th>\n",
       "      <th>O_COMMENT</th>\n",
       "    </tr>\n",
       "  </thead>\n",
       "  <tbody>\n",
       "    <tr>\n",
       "      <th>0</th>\n",
       "      <td>3000001</td>\n",
       "      <td>145618</td>\n",
       "      <td>F</td>\n",
       "      <td>30175.88</td>\n",
       "      <td>1992-12-17</td>\n",
       "      <td>4-NOT SPECIFIED</td>\n",
       "      <td>Clerk#000000141</td>\n",
       "      <td>0</td>\n",
       "      <td>l packages. furiously careful instructions gro...</td>\n",
       "    </tr>\n",
       "    <tr>\n",
       "      <th>1</th>\n",
       "      <td>3000002</td>\n",
       "      <td>1481</td>\n",
       "      <td>O</td>\n",
       "      <td>297999.63</td>\n",
       "      <td>1995-07-28</td>\n",
       "      <td>1-URGENT</td>\n",
       "      <td>Clerk#000000547</td>\n",
       "      <td>0</td>\n",
       "      <td>carefully unusual dependencie</td>\n",
       "    </tr>\n",
       "    <tr>\n",
       "      <th>2</th>\n",
       "      <td>3000003</td>\n",
       "      <td>127432</td>\n",
       "      <td>O</td>\n",
       "      <td>345438.38</td>\n",
       "      <td>1997-11-04</td>\n",
       "      <td>5-LOW</td>\n",
       "      <td>Clerk#000000488</td>\n",
       "      <td>0</td>\n",
       "      <td>n packages boost slyly bold deposits. deposits...</td>\n",
       "    </tr>\n",
       "    <tr>\n",
       "      <th>3</th>\n",
       "      <td>3000004</td>\n",
       "      <td>47423</td>\n",
       "      <td>O</td>\n",
       "      <td>135965.53</td>\n",
       "      <td>1996-06-13</td>\n",
       "      <td>4-NOT SPECIFIED</td>\n",
       "      <td>Clerk#000000004</td>\n",
       "      <td>0</td>\n",
       "      <td>nts wake carefully final decoys. quickly final...</td>\n",
       "    </tr>\n",
       "    <tr>\n",
       "      <th>4</th>\n",
       "      <td>3000005</td>\n",
       "      <td>84973</td>\n",
       "      <td>F</td>\n",
       "      <td>209937.09</td>\n",
       "      <td>1992-09-12</td>\n",
       "      <td>5-LOW</td>\n",
       "      <td>Clerk#000000030</td>\n",
       "      <td>0</td>\n",
       "      <td>yly after the quickly unusual ide</td>\n",
       "    </tr>\n",
       "  </tbody>\n",
       "</table>\n",
       "</div>"
      ],
      "text/plain": [
       "   O_ORDERKEY  O_CUSTKEY O_ORDERSTATUS  O_TOTALPRICE O_ORDERDATE  \\\n",
       "0     3000001     145618             F      30175.88  1992-12-17   \n",
       "1     3000002       1481             O     297999.63  1995-07-28   \n",
       "2     3000003     127432             O     345438.38  1997-11-04   \n",
       "3     3000004      47423             O     135965.53  1996-06-13   \n",
       "4     3000005      84973             F     209937.09  1992-09-12   \n",
       "\n",
       "   O_ORDERPRIORITY          O_CLERK  O_SHIPPRIORITY  \\\n",
       "0  4-NOT SPECIFIED  Clerk#000000141               0   \n",
       "1         1-URGENT  Clerk#000000547               0   \n",
       "2            5-LOW  Clerk#000000488               0   \n",
       "3  4-NOT SPECIFIED  Clerk#000000004               0   \n",
       "4            5-LOW  Clerk#000000030               0   \n",
       "\n",
       "                                           O_COMMENT  \n",
       "0  l packages. furiously careful instructions gro...  \n",
       "1                      carefully unusual dependencie  \n",
       "2  n packages boost slyly bold deposits. deposits...  \n",
       "3  nts wake carefully final decoys. quickly final...  \n",
       "4                  yly after the quickly unusual ide  "
      ]
     },
     "execution_count": 26,
     "metadata": {},
     "output_type": "execute_result"
    }
   ],
   "source": [
    "df = cursor.fetch_pandas_all()\n",
    "df.head()"
   ]
  },
  {
   "cell_type": "code",
   "execution_count": 27,
   "id": "d504d729",
   "metadata": {},
   "outputs": [],
   "source": [
    "# you can also use the following to fetch data as a pandas DataFrame\n",
    "query = \"SELECT * FROM ORDERS LIMIT 100;\"\n",
    "df = cursor.execute(query).fetch_pandas_all()"
   ]
  },
  {
   "cell_type": "code",
   "execution_count": 28,
   "id": "62bfd0f9",
   "metadata": {},
   "outputs": [
    {
     "name": "stdout",
     "output_type": "stream",
     "text": [
      "<class 'pandas.core.frame.DataFrame'>\n",
      "RangeIndex: 100 entries, 0 to 99\n",
      "Data columns (total 9 columns):\n",
      " #   Column           Non-Null Count  Dtype  \n",
      "---  ------           --------------  -----  \n",
      " 0   O_ORDERKEY       100 non-null    int32  \n",
      " 1   O_CUSTKEY        100 non-null    int32  \n",
      " 2   O_ORDERSTATUS    100 non-null    object \n",
      " 3   O_TOTALPRICE     100 non-null    float64\n",
      " 4   O_ORDERDATE      100 non-null    object \n",
      " 5   O_ORDERPRIORITY  100 non-null    object \n",
      " 6   O_CLERK          100 non-null    object \n",
      " 7   O_SHIPPRIORITY   100 non-null    int8   \n",
      " 8   O_COMMENT        100 non-null    object \n",
      "dtypes: float64(1), int32(2), int8(1), object(5)\n",
      "memory usage: 5.7+ KB\n"
     ]
    }
   ],
   "source": [
    "# notice all the columns are all uppercase coming from Snowflake\n",
    "# this is because Snowflake returns column names in uppercase by default\n",
    "df.info()"
   ]
  },
  {
   "cell_type": "code",
   "execution_count": 29,
   "id": "984cbd54",
   "metadata": {},
   "outputs": [],
   "source": [
    "# when you are done you need to close the cursor and connection\n",
    "cursor.close()\n",
    "con.close()"
   ]
  },
  {
   "cell_type": "code",
   "execution_count": 30,
   "id": "06cab09a",
   "metadata": {},
   "outputs": [
    {
     "data": {
      "text/html": [
       "<div>\n",
       "<style scoped>\n",
       "    .dataframe tbody tr th:only-of-type {\n",
       "        vertical-align: middle;\n",
       "    }\n",
       "\n",
       "    .dataframe tbody tr th {\n",
       "        vertical-align: top;\n",
       "    }\n",
       "\n",
       "    .dataframe thead th {\n",
       "        text-align: right;\n",
       "    }\n",
       "</style>\n",
       "<table border=\"1\" class=\"dataframe\">\n",
       "  <thead>\n",
       "    <tr style=\"text-align: right;\">\n",
       "      <th></th>\n",
       "      <th>O_ORDERKEY</th>\n",
       "      <th>O_CUSTKEY</th>\n",
       "      <th>O_ORDERSTATUS</th>\n",
       "      <th>O_TOTALPRICE</th>\n",
       "      <th>O_ORDERDATE</th>\n",
       "      <th>O_ORDERPRIORITY</th>\n",
       "      <th>O_CLERK</th>\n",
       "      <th>O_SHIPPRIORITY</th>\n",
       "      <th>O_COMMENT</th>\n",
       "    </tr>\n",
       "  </thead>\n",
       "  <tbody>\n",
       "    <tr>\n",
       "      <th>0</th>\n",
       "      <td>3000001</td>\n",
       "      <td>145618</td>\n",
       "      <td>F</td>\n",
       "      <td>30175.88</td>\n",
       "      <td>1992-12-17</td>\n",
       "      <td>4-NOT SPECIFIED</td>\n",
       "      <td>Clerk#000000141</td>\n",
       "      <td>0</td>\n",
       "      <td>l packages. furiously careful instructions gro...</td>\n",
       "    </tr>\n",
       "    <tr>\n",
       "      <th>1</th>\n",
       "      <td>3000002</td>\n",
       "      <td>1481</td>\n",
       "      <td>O</td>\n",
       "      <td>297999.63</td>\n",
       "      <td>1995-07-28</td>\n",
       "      <td>1-URGENT</td>\n",
       "      <td>Clerk#000000547</td>\n",
       "      <td>0</td>\n",
       "      <td>carefully unusual dependencie</td>\n",
       "    </tr>\n",
       "    <tr>\n",
       "      <th>2</th>\n",
       "      <td>3000003</td>\n",
       "      <td>127432</td>\n",
       "      <td>O</td>\n",
       "      <td>345438.38</td>\n",
       "      <td>1997-11-04</td>\n",
       "      <td>5-LOW</td>\n",
       "      <td>Clerk#000000488</td>\n",
       "      <td>0</td>\n",
       "      <td>n packages boost slyly bold deposits. deposits...</td>\n",
       "    </tr>\n",
       "    <tr>\n",
       "      <th>3</th>\n",
       "      <td>3000004</td>\n",
       "      <td>47423</td>\n",
       "      <td>O</td>\n",
       "      <td>135965.53</td>\n",
       "      <td>1996-06-13</td>\n",
       "      <td>4-NOT SPECIFIED</td>\n",
       "      <td>Clerk#000000004</td>\n",
       "      <td>0</td>\n",
       "      <td>nts wake carefully final decoys. quickly final...</td>\n",
       "    </tr>\n",
       "    <tr>\n",
       "      <th>4</th>\n",
       "      <td>3000005</td>\n",
       "      <td>84973</td>\n",
       "      <td>F</td>\n",
       "      <td>209937.09</td>\n",
       "      <td>1992-09-12</td>\n",
       "      <td>5-LOW</td>\n",
       "      <td>Clerk#000000030</td>\n",
       "      <td>0</td>\n",
       "      <td>yly after the quickly unusual ide</td>\n",
       "    </tr>\n",
       "  </tbody>\n",
       "</table>\n",
       "</div>"
      ],
      "text/plain": [
       "   O_ORDERKEY  O_CUSTKEY O_ORDERSTATUS  O_TOTALPRICE O_ORDERDATE  \\\n",
       "0     3000001     145618             F      30175.88  1992-12-17   \n",
       "1     3000002       1481             O     297999.63  1995-07-28   \n",
       "2     3000003     127432             O     345438.38  1997-11-04   \n",
       "3     3000004      47423             O     135965.53  1996-06-13   \n",
       "4     3000005      84973             F     209937.09  1992-09-12   \n",
       "\n",
       "   O_ORDERPRIORITY          O_CLERK  O_SHIPPRIORITY  \\\n",
       "0  4-NOT SPECIFIED  Clerk#000000141               0   \n",
       "1         1-URGENT  Clerk#000000547               0   \n",
       "2            5-LOW  Clerk#000000488               0   \n",
       "3  4-NOT SPECIFIED  Clerk#000000004               0   \n",
       "4            5-LOW  Clerk#000000030               0   \n",
       "\n",
       "                                           O_COMMENT  \n",
       "0  l packages. furiously careful instructions gro...  \n",
       "1                      carefully unusual dependencie  \n",
       "2  n packages boost slyly bold deposits. deposits...  \n",
       "3  nts wake carefully final decoys. quickly final...  \n",
       "4                  yly after the quickly unusual ide  "
      ]
     },
     "metadata": {},
     "output_type": "display_data"
    },
    {
     "name": "stdout",
     "output_type": "stream",
     "text": [
      "<class 'pandas.core.frame.DataFrame'>\n",
      "RangeIndex: 100 entries, 0 to 99\n",
      "Data columns (total 9 columns):\n",
      " #   Column           Non-Null Count  Dtype  \n",
      "---  ------           --------------  -----  \n",
      " 0   O_ORDERKEY       100 non-null    int32  \n",
      " 1   O_CUSTKEY        100 non-null    int32  \n",
      " 2   O_ORDERSTATUS    100 non-null    object \n",
      " 3   O_TOTALPRICE     100 non-null    float64\n",
      " 4   O_ORDERDATE      100 non-null    object \n",
      " 5   O_ORDERPRIORITY  100 non-null    object \n",
      " 6   O_CLERK          100 non-null    object \n",
      " 7   O_SHIPPRIORITY   100 non-null    int8   \n",
      " 8   O_COMMENT        100 non-null    object \n",
      "dtypes: float64(1), int32(2), int8(1), object(5)\n",
      "memory usage: 5.7+ KB\n",
      "None\n"
     ]
    }
   ],
   "source": [
    "# a better approach is to use the context manager \n",
    "with connector.connect(**params) as con:\n",
    "    with con.cursor() as cursor:\n",
    "        query = \"SELECT * FROM ORDERS LIMIT 100;\"\n",
    "        df = cursor.execute(query).fetch_pandas_all()\n",
    "        display(df.head())\n",
    "        print(df.info())"
   ]
  },
  {
   "cell_type": "markdown",
   "id": "1af8c607",
   "metadata": {},
   "source": [
    "## Using SQLAlchemy and Pandas"
   ]
  },
  {
   "cell_type": "code",
   "execution_count": 31,
   "id": "e3d331e2",
   "metadata": {},
   "outputs": [
    {
     "name": "stdout",
     "output_type": "stream",
     "text": [
      "Requirement already satisfied: sqlalchemy in /usr/local/python/3.12.1/lib/python3.12/site-packages (2.0.41)\n",
      "Requirement already satisfied: snowflake-sqlalchemy in /usr/local/python/3.12.1/lib/python3.12/site-packages (1.7.6)\n",
      "Requirement already satisfied: greenlet>=1 in /usr/local/python/3.12.1/lib/python3.12/site-packages (from sqlalchemy) (3.2.3)\n",
      "Requirement already satisfied: typing-extensions>=4.6.0 in /home/codespace/.local/lib/python3.12/site-packages (from sqlalchemy) (4.14.1)\n",
      "Requirement already satisfied: snowflake-connector-python<4.0.0 in /usr/local/python/3.12.1/lib/python3.12/site-packages (from snowflake-sqlalchemy) (3.16.0)\n",
      "Requirement already satisfied: asn1crypto<2.0.0,>0.24.0 in /usr/local/python/3.12.1/lib/python3.12/site-packages (from snowflake-connector-python<4.0.0->snowflake-sqlalchemy) (1.5.1)\n",
      "Requirement already satisfied: boto3>=1.24 in /usr/local/python/3.12.1/lib/python3.12/site-packages (from snowflake-connector-python<4.0.0->snowflake-sqlalchemy) (1.39.14)\n",
      "Requirement already satisfied: botocore>=1.24 in /usr/local/python/3.12.1/lib/python3.12/site-packages (from snowflake-connector-python<4.0.0->snowflake-sqlalchemy) (1.39.14)\n",
      "Requirement already satisfied: cffi<2.0.0,>=1.9 in /home/codespace/.local/lib/python3.12/site-packages (from snowflake-connector-python<4.0.0->snowflake-sqlalchemy) (1.17.1)\n",
      "Requirement already satisfied: cryptography>=3.1.0 in /usr/local/python/3.12.1/lib/python3.12/site-packages (from snowflake-connector-python<4.0.0->snowflake-sqlalchemy) (45.0.5)\n",
      "Requirement already satisfied: pyOpenSSL<26.0.0,>=22.0.0 in /usr/local/python/3.12.1/lib/python3.12/site-packages (from snowflake-connector-python<4.0.0->snowflake-sqlalchemy) (25.1.0)\n",
      "Requirement already satisfied: pyjwt<3.0.0 in /usr/local/python/3.12.1/lib/python3.12/site-packages (from snowflake-connector-python<4.0.0->snowflake-sqlalchemy) (2.10.1)\n",
      "Requirement already satisfied: pytz in /home/codespace/.local/lib/python3.12/site-packages (from snowflake-connector-python<4.0.0->snowflake-sqlalchemy) (2025.2)\n",
      "Requirement already satisfied: requests<3.0.0 in /home/codespace/.local/lib/python3.12/site-packages (from snowflake-connector-python<4.0.0->snowflake-sqlalchemy) (2.32.4)\n",
      "Requirement already satisfied: packaging in /home/codespace/.local/lib/python3.12/site-packages (from snowflake-connector-python<4.0.0->snowflake-sqlalchemy) (25.0)\n",
      "Requirement already satisfied: charset_normalizer<4,>=2 in /home/codespace/.local/lib/python3.12/site-packages (from snowflake-connector-python<4.0.0->snowflake-sqlalchemy) (3.4.2)\n",
      "Requirement already satisfied: idna<4,>=2.5 in /home/codespace/.local/lib/python3.12/site-packages (from snowflake-connector-python<4.0.0->snowflake-sqlalchemy) (3.10)\n",
      "Requirement already satisfied: certifi>=2017.4.17 in /home/codespace/.local/lib/python3.12/site-packages (from snowflake-connector-python<4.0.0->snowflake-sqlalchemy) (2025.7.9)\n",
      "Requirement already satisfied: filelock<4,>=3.5 in /home/codespace/.local/lib/python3.12/site-packages (from snowflake-connector-python<4.0.0->snowflake-sqlalchemy) (3.13.1)\n",
      "Requirement already satisfied: sortedcontainers>=2.4.0 in /usr/local/python/3.12.1/lib/python3.12/site-packages (from snowflake-connector-python<4.0.0->snowflake-sqlalchemy) (2.4.0)\n",
      "Requirement already satisfied: platformdirs<5.0.0,>=2.6.0 in /home/codespace/.local/lib/python3.12/site-packages (from snowflake-connector-python<4.0.0->snowflake-sqlalchemy) (4.3.8)\n",
      "Requirement already satisfied: tomlkit in /usr/local/python/3.12.1/lib/python3.12/site-packages (from snowflake-connector-python<4.0.0->snowflake-sqlalchemy) (0.13.3)\n",
      "Requirement already satisfied: pycparser in /home/codespace/.local/lib/python3.12/site-packages (from cffi<2.0.0,>=1.9->snowflake-connector-python<4.0.0->snowflake-sqlalchemy) (2.22)\n",
      "Requirement already satisfied: urllib3<3,>=1.21.1 in /home/codespace/.local/lib/python3.12/site-packages (from requests<3.0.0->snowflake-connector-python<4.0.0->snowflake-sqlalchemy) (2.5.0)\n",
      "Requirement already satisfied: jmespath<2.0.0,>=0.7.1 in /usr/local/python/3.12.1/lib/python3.12/site-packages (from boto3>=1.24->snowflake-connector-python<4.0.0->snowflake-sqlalchemy) (1.0.1)\n",
      "Requirement already satisfied: s3transfer<0.14.0,>=0.13.0 in /usr/local/python/3.12.1/lib/python3.12/site-packages (from boto3>=1.24->snowflake-connector-python<4.0.0->snowflake-sqlalchemy) (0.13.1)\n",
      "Requirement already satisfied: python-dateutil<3.0.0,>=2.1 in /home/codespace/.local/lib/python3.12/site-packages (from botocore>=1.24->snowflake-connector-python<4.0.0->snowflake-sqlalchemy) (2.9.0.post0)\n",
      "Requirement already satisfied: six>=1.5 in /home/codespace/.local/lib/python3.12/site-packages (from python-dateutil<3.0.0,>=2.1->botocore>=1.24->snowflake-connector-python<4.0.0->snowflake-sqlalchemy) (1.17.0)\n"
     ]
    }
   ],
   "source": [
    "!pip install sqlalchemy snowflake-sqlalchemy\n"
   ]
  },
  {
   "cell_type": "code",
   "execution_count": 32,
   "id": "6b25b8af",
   "metadata": {},
   "outputs": [],
   "source": [
    "from sqlalchemy import create_engine\n",
    "from snowflake.sqlalchemy import URL\n",
    "from configparser import ConfigParser\n",
    "import pandas as pd\n",
    "\n",
    "config = ConfigParser()\n",
    "config.read('snow.cfg')\n",
    "params = dict(config['READ'])\n",
    "\n",
    "url = URL(**params)\n",
    "engine = create_engine(url)"
   ]
  },
  {
   "cell_type": "code",
   "execution_count": 33,
   "id": "88d791de",
   "metadata": {},
   "outputs": [
    {
     "data": {
      "text/plain": [
       "<sqlalchemy.engine.base.Connection at 0x75bf865ebc20>"
      ]
     },
     "execution_count": 33,
     "metadata": {},
     "output_type": "execute_result"
    }
   ],
   "source": [
    "con = engine.connect()\n",
    "con"
   ]
  },
  {
   "cell_type": "code",
   "execution_count": 34,
   "id": "ad89d916",
   "metadata": {},
   "outputs": [
    {
     "name": "stdout",
     "output_type": "stream",
     "text": [
      "<class 'pandas.core.frame.DataFrame'>\n",
      "DatetimeIndex: 1000 entries, 1992-12-17 to 1993-01-19\n",
      "Data columns (total 8 columns):\n",
      " #   Column           Non-Null Count  Dtype  \n",
      "---  ------           --------------  -----  \n",
      " 0   o_orderkey       1000 non-null   int64  \n",
      " 1   o_custkey        1000 non-null   int64  \n",
      " 2   o_orderstatus    1000 non-null   object \n",
      " 3   o_totalprice     1000 non-null   float64\n",
      " 4   o_orderpriority  1000 non-null   object \n",
      " 5   o_clerk          1000 non-null   object \n",
      " 6   o_shippriority   1000 non-null   int64  \n",
      " 7   o_comment        1000 non-null   object \n",
      "dtypes: float64(1), int64(3), object(4)\n",
      "memory usage: 70.3+ KB\n"
     ]
    }
   ],
   "source": [
    "# an example query to read data from Snowflake using SQLAlchemy and Pandas \n",
    "query = \"SELECT * FROM ORDERS LIMIT 1000;\"\n",
    "\n",
    "engine = create_engine(url)\n",
    "with engine.connect() as con:\n",
    "    df = pd.read_sql(query,\n",
    "                      con,\n",
    "                      index_col='o_orderdate',\n",
    "                      parse_dates=['o_orderdate'])\n",
    "\n",
    "# notice the index is set to 'o_orderdate' and it is parsed as a date\n",
    "# also notice the column names are all lowercase \n",
    "df.info()"
   ]
  },
  {
   "cell_type": "code",
   "execution_count": 35,
   "id": "41757dc1",
   "metadata": {},
   "outputs": [
    {
     "data": {
      "text/html": [
       "<div>\n",
       "<style scoped>\n",
       "    .dataframe tbody tr th:only-of-type {\n",
       "        vertical-align: middle;\n",
       "    }\n",
       "\n",
       "    .dataframe tbody tr th {\n",
       "        vertical-align: top;\n",
       "    }\n",
       "\n",
       "    .dataframe thead th {\n",
       "        text-align: right;\n",
       "    }\n",
       "</style>\n",
       "<table border=\"1\" class=\"dataframe\">\n",
       "  <thead>\n",
       "    <tr style=\"text-align: right;\">\n",
       "      <th></th>\n",
       "      <th>o_orderkey</th>\n",
       "      <th>o_custkey</th>\n",
       "      <th>o_orderstatus</th>\n",
       "      <th>o_totalprice</th>\n",
       "      <th>o_orderpriority</th>\n",
       "      <th>o_clerk</th>\n",
       "      <th>o_shippriority</th>\n",
       "      <th>o_comment</th>\n",
       "    </tr>\n",
       "    <tr>\n",
       "      <th>o_orderdate</th>\n",
       "      <th></th>\n",
       "      <th></th>\n",
       "      <th></th>\n",
       "      <th></th>\n",
       "      <th></th>\n",
       "      <th></th>\n",
       "      <th></th>\n",
       "      <th></th>\n",
       "    </tr>\n",
       "  </thead>\n",
       "  <tbody>\n",
       "    <tr>\n",
       "      <th>1992-12-17</th>\n",
       "      <td>3000001</td>\n",
       "      <td>145618</td>\n",
       "      <td>F</td>\n",
       "      <td>30175.88</td>\n",
       "      <td>4-NOT SPECIFIED</td>\n",
       "      <td>Clerk#000000141</td>\n",
       "      <td>0</td>\n",
       "      <td>l packages. furiously careful instructions gro...</td>\n",
       "    </tr>\n",
       "    <tr>\n",
       "      <th>1995-07-28</th>\n",
       "      <td>3000002</td>\n",
       "      <td>1481</td>\n",
       "      <td>O</td>\n",
       "      <td>297999.63</td>\n",
       "      <td>1-URGENT</td>\n",
       "      <td>Clerk#000000547</td>\n",
       "      <td>0</td>\n",
       "      <td>carefully unusual dependencie</td>\n",
       "    </tr>\n",
       "    <tr>\n",
       "      <th>1997-11-04</th>\n",
       "      <td>3000003</td>\n",
       "      <td>127432</td>\n",
       "      <td>O</td>\n",
       "      <td>345438.38</td>\n",
       "      <td>5-LOW</td>\n",
       "      <td>Clerk#000000488</td>\n",
       "      <td>0</td>\n",
       "      <td>n packages boost slyly bold deposits. deposits...</td>\n",
       "    </tr>\n",
       "    <tr>\n",
       "      <th>1996-06-13</th>\n",
       "      <td>3000004</td>\n",
       "      <td>47423</td>\n",
       "      <td>O</td>\n",
       "      <td>135965.53</td>\n",
       "      <td>4-NOT SPECIFIED</td>\n",
       "      <td>Clerk#000000004</td>\n",
       "      <td>0</td>\n",
       "      <td>nts wake carefully final decoys. quickly final...</td>\n",
       "    </tr>\n",
       "    <tr>\n",
       "      <th>1992-09-12</th>\n",
       "      <td>3000005</td>\n",
       "      <td>84973</td>\n",
       "      <td>F</td>\n",
       "      <td>209937.09</td>\n",
       "      <td>5-LOW</td>\n",
       "      <td>Clerk#000000030</td>\n",
       "      <td>0</td>\n",
       "      <td>yly after the quickly unusual ide</td>\n",
       "    </tr>\n",
       "    <tr>\n",
       "      <th>1996-09-26</th>\n",
       "      <td>3000006</td>\n",
       "      <td>135136</td>\n",
       "      <td>O</td>\n",
       "      <td>140186.32</td>\n",
       "      <td>1-URGENT</td>\n",
       "      <td>Clerk#000000726</td>\n",
       "      <td>0</td>\n",
       "      <td>ronic pinto beans use furiously final, slow no...</td>\n",
       "    </tr>\n",
       "    <tr>\n",
       "      <th>1992-04-13</th>\n",
       "      <td>3000007</td>\n",
       "      <td>78841</td>\n",
       "      <td>F</td>\n",
       "      <td>298655.07</td>\n",
       "      <td>5-LOW</td>\n",
       "      <td>Clerk#000000871</td>\n",
       "      <td>0</td>\n",
       "      <td>ses eat. deposits wake</td>\n",
       "    </tr>\n",
       "    <tr>\n",
       "      <th>1992-03-02</th>\n",
       "      <td>3000032</td>\n",
       "      <td>124576</td>\n",
       "      <td>F</td>\n",
       "      <td>175973.90</td>\n",
       "      <td>1-URGENT</td>\n",
       "      <td>Clerk#000000460</td>\n",
       "      <td>0</td>\n",
       "      <td>lar deposits mold carefully against the dep</td>\n",
       "    </tr>\n",
       "    <tr>\n",
       "      <th>1993-11-10</th>\n",
       "      <td>3000033</td>\n",
       "      <td>30247</td>\n",
       "      <td>F</td>\n",
       "      <td>4635.38</td>\n",
       "      <td>1-URGENT</td>\n",
       "      <td>Clerk#000000923</td>\n",
       "      <td>0</td>\n",
       "      <td>mes special packages nag quickly.</td>\n",
       "    </tr>\n",
       "    <tr>\n",
       "      <th>1992-04-21</th>\n",
       "      <td>3000034</td>\n",
       "      <td>5498</td>\n",
       "      <td>F</td>\n",
       "      <td>348308.79</td>\n",
       "      <td>1-URGENT</td>\n",
       "      <td>Clerk#000000418</td>\n",
       "      <td>0</td>\n",
       "      <td>lly final packages are slyly beyond the reques...</td>\n",
       "    </tr>\n",
       "  </tbody>\n",
       "</table>\n",
       "</div>"
      ],
      "text/plain": [
       "             o_orderkey  o_custkey o_orderstatus  o_totalprice  \\\n",
       "o_orderdate                                                      \n",
       "1992-12-17      3000001     145618             F      30175.88   \n",
       "1995-07-28      3000002       1481             O     297999.63   \n",
       "1997-11-04      3000003     127432             O     345438.38   \n",
       "1996-06-13      3000004      47423             O     135965.53   \n",
       "1992-09-12      3000005      84973             F     209937.09   \n",
       "1996-09-26      3000006     135136             O     140186.32   \n",
       "1992-04-13      3000007      78841             F     298655.07   \n",
       "1992-03-02      3000032     124576             F     175973.90   \n",
       "1993-11-10      3000033      30247             F       4635.38   \n",
       "1992-04-21      3000034       5498             F     348308.79   \n",
       "\n",
       "             o_orderpriority          o_clerk  o_shippriority  \\\n",
       "o_orderdate                                                     \n",
       "1992-12-17   4-NOT SPECIFIED  Clerk#000000141               0   \n",
       "1995-07-28          1-URGENT  Clerk#000000547               0   \n",
       "1997-11-04             5-LOW  Clerk#000000488               0   \n",
       "1996-06-13   4-NOT SPECIFIED  Clerk#000000004               0   \n",
       "1992-09-12             5-LOW  Clerk#000000030               0   \n",
       "1996-09-26          1-URGENT  Clerk#000000726               0   \n",
       "1992-04-13             5-LOW  Clerk#000000871               0   \n",
       "1992-03-02          1-URGENT  Clerk#000000460               0   \n",
       "1993-11-10          1-URGENT  Clerk#000000923               0   \n",
       "1992-04-21          1-URGENT  Clerk#000000418               0   \n",
       "\n",
       "                                                     o_comment  \n",
       "o_orderdate                                                     \n",
       "1992-12-17   l packages. furiously careful instructions gro...  \n",
       "1995-07-28                       carefully unusual dependencie  \n",
       "1997-11-04   n packages boost slyly bold deposits. deposits...  \n",
       "1996-06-13   nts wake carefully final decoys. quickly final...  \n",
       "1992-09-12                   yly after the quickly unusual ide  \n",
       "1996-09-26   ronic pinto beans use furiously final, slow no...  \n",
       "1992-04-13                              ses eat. deposits wake  \n",
       "1992-03-02         lar deposits mold carefully against the dep  \n",
       "1993-11-10                  mes special packages nag quickly.   \n",
       "1992-04-21   lly final packages are slyly beyond the reques...  "
      ]
     },
     "execution_count": 35,
     "metadata": {},
     "output_type": "execute_result"
    }
   ],
   "source": [
    "# look at the first 10 rows of the DataFrame \n",
    "# notice the o_orderdate is not sorted \n",
    "df.head(10)"
   ]
  },
  {
   "cell_type": "code",
   "execution_count": 36,
   "id": "d99f36bf",
   "metadata": {},
   "outputs": [
    {
     "data": {
      "text/plain": [
       "<Axes: xlabel='o_orderdate'>"
      ]
     },
     "execution_count": 36,
     "metadata": {},
     "output_type": "execute_result"
    },
    {
     "data": {
      "image/png": "[encoded data removed]",
      "text/plain": [
       "<Figure size 640x480 with 1 Axes>"
      ]
     },
     "metadata": {},
     "output_type": "display_data"
    }
   ],
   "source": [
    "df.sort_index()['o_totalprice'].plot()"
   ]
  },
  {
   "cell_type": "code",
   "execution_count": 37,
   "id": "bd2f2079",
   "metadata": {},
   "outputs": [
    {
     "name": "stdout",
     "output_type": "stream",
     "text": [
      "<class 'pandas.core.frame.DataFrame'>\n",
      "DatetimeIndex: 1000 entries, 1992-12-17 to 1993-01-19\n",
      "Data columns (total 8 columns):\n",
      " #   Column           Non-Null Count  Dtype  \n",
      "---  ------           --------------  -----  \n",
      " 0   o_orderkey       1000 non-null   int64  \n",
      " 1   o_custkey        1000 non-null   int64  \n",
      " 2   o_orderstatus    1000 non-null   object \n",
      " 3   o_totalprice     1000 non-null   float64\n",
      " 4   o_orderpriority  1000 non-null   object \n",
      " 5   o_clerk          1000 non-null   object \n",
      " 6   o_shippriority   1000 non-null   int64  \n",
      " 7   o_comment        1000 non-null   object \n",
      "dtypes: float64(1), int64(3), object(4)\n",
      "memory usage: 70.3+ KB\n"
     ]
    }
   ],
   "source": [
    "# you can also use the following to read data from Snowflake using SQLAlchemy and Pandas\n",
    "query = \"SELECT * FROM ORDERS LIMIT 1000;\"\n",
    "con = engine.connect()\n",
    "df = pd.read_sql(query,\n",
    "                 con,\n",
    "                 index_col='o_orderdate',\n",
    "                 parse_dates=['o_orderdate'])\n",
    "df.info()"
   ]
  },
  {
   "cell_type": "code",
   "execution_count": 38,
   "id": "951eae36",
   "metadata": {},
   "outputs": [],
   "source": [
    "# but here you will need to close the connection manually\n",
    "con.close()\n",
    "engine.dispose()  # this will close all connections associated with the engine"
   ]
  },
  {
   "cell_type": "markdown",
   "id": "22f18af1",
   "metadata": {},
   "source": [
    "## Using Snowpark"
   ]
  },
  {
   "cell_type": "code",
   "execution_count": 41,
   "id": "2a8edce1",
   "metadata": {},
   "outputs": [
    {
     "name": "stdout",
     "output_type": "stream",
     "text": [
      "Collecting snowflake-snowpark-python\n",
      "  Downloading snowflake_snowpark_python-1.35.0-py3-none-any.whl.metadata (150 kB)\n",
      "Requirement already satisfied: setuptools>=40.6.0 in /home/codespace/.local/lib/python3.12/site-packages (from snowflake-snowpark-python) (80.9.0)\n",
      "Collecting wheel (from snowflake-snowpark-python)\n",
      "  Downloading wheel-0.45.1-py3-none-any.whl.metadata (2.3 kB)\n",
      "Requirement already satisfied: snowflake-connector-python<4.0.0,>=3.14.0 in /usr/local/python/3.12.1/lib/python3.12/site-packages (from snowflake-snowpark-python) (3.16.0)\n",
      "Requirement already satisfied: typing-extensions<5.0.0,>=4.1.0 in /home/codespace/.local/lib/python3.12/site-packages (from snowflake-snowpark-python) (4.14.1)\n",
      "Requirement already satisfied: pyyaml in /home/codespace/.local/lib/python3.12/site-packages (from snowflake-snowpark-python) (6.0.2)\n",
      "Collecting cloudpickle!=2.1.0,!=2.2.0,<=3.0.0,>=1.6.0 (from snowflake-snowpark-python)\n",
      "  Downloading cloudpickle-3.0.0-py3-none-any.whl.metadata (7.0 kB)\n",
      "Collecting protobuf<6,>=3.20 (from snowflake-snowpark-python)\n",
      "  Downloading protobuf-5.29.5-cp38-abi3-manylinux2014_x86_64.whl.metadata (592 bytes)\n",
      "Requirement already satisfied: python-dateutil in /home/codespace/.local/lib/python3.12/site-packages (from snowflake-snowpark-python) (2.9.0.post0)\n",
      "Collecting tzlocal (from snowflake-snowpark-python)\n",
      "  Downloading tzlocal-5.3.1-py3-none-any.whl.metadata (7.6 kB)\n",
      "Requirement already satisfied: asn1crypto<2.0.0,>0.24.0 in /usr/local/python/3.12.1/lib/python3.12/site-packages (from snowflake-connector-python<4.0.0,>=3.14.0->snowflake-snowpark-python) (1.5.1)\n",
      "Requirement already satisfied: boto3>=1.24 in /usr/local/python/3.12.1/lib/python3.12/site-packages (from snowflake-connector-python<4.0.0,>=3.14.0->snowflake-snowpark-python) (1.39.14)\n",
      "Requirement already satisfied: botocore>=1.24 in /usr/local/python/3.12.1/lib/python3.12/site-packages (from snowflake-connector-python<4.0.0,>=3.14.0->snowflake-snowpark-python) (1.39.14)\n",
      "Requirement already satisfied: cffi<2.0.0,>=1.9 in /home/codespace/.local/lib/python3.12/site-packages (from snowflake-connector-python<4.0.0,>=3.14.0->snowflake-snowpark-python) (1.17.1)\n",
      "Requirement already satisfied: cryptography>=3.1.0 in /usr/local/python/3.12.1/lib/python3.12/site-packages (from snowflake-connector-python<4.0.0,>=3.14.0->snowflake-snowpark-python) (45.0.5)\n",
      "Requirement already satisfied: pyOpenSSL<26.0.0,>=22.0.0 in /usr/local/python/3.12.1/lib/python3.12/site-packages (from snowflake-connector-python<4.0.0,>=3.14.0->snowflake-snowpark-python) (25.1.0)\n",
      "Requirement already satisfied: pyjwt<3.0.0 in /usr/local/python/3.12.1/lib/python3.12/site-packages (from snowflake-connector-python<4.0.0,>=3.14.0->snowflake-snowpark-python) (2.10.1)\n",
      "Requirement already satisfied: pytz in /home/codespace/.local/lib/python3.12/site-packages (from snowflake-connector-python<4.0.0,>=3.14.0->snowflake-snowpark-python) (2025.2)\n",
      "Requirement already satisfied: requests<3.0.0 in /home/codespace/.local/lib/python3.12/site-packages (from snowflake-connector-python<4.0.0,>=3.14.0->snowflake-snowpark-python) (2.32.4)\n",
      "Requirement already satisfied: packaging in /home/codespace/.local/lib/python3.12/site-packages (from snowflake-connector-python<4.0.0,>=3.14.0->snowflake-snowpark-python) (25.0)\n",
      "Requirement already satisfied: charset_normalizer<4,>=2 in /home/codespace/.local/lib/python3.12/site-packages (from snowflake-connector-python<4.0.0,>=3.14.0->snowflake-snowpark-python) (3.4.2)\n",
      "Requirement already satisfied: idna<4,>=2.5 in /home/codespace/.local/lib/python3.12/site-packages (from snowflake-connector-python<4.0.0,>=3.14.0->snowflake-snowpark-python) (3.10)\n",
      "Requirement already satisfied: certifi>=2017.4.17 in /home/codespace/.local/lib/python3.12/site-packages (from snowflake-connector-python<4.0.0,>=3.14.0->snowflake-snowpark-python) (2025.7.9)\n",
      "Requirement already satisfied: filelock<4,>=3.5 in /home/codespace/.local/lib/python3.12/site-packages (from snowflake-connector-python<4.0.0,>=3.14.0->snowflake-snowpark-python) (3.13.1)\n",
      "Requirement already satisfied: sortedcontainers>=2.4.0 in /usr/local/python/3.12.1/lib/python3.12/site-packages (from snowflake-connector-python<4.0.0,>=3.14.0->snowflake-snowpark-python) (2.4.0)\n",
      "Requirement already satisfied: platformdirs<5.0.0,>=2.6.0 in /home/codespace/.local/lib/python3.12/site-packages (from snowflake-connector-python<4.0.0,>=3.14.0->snowflake-snowpark-python) (4.3.8)\n",
      "Requirement already satisfied: tomlkit in /usr/local/python/3.12.1/lib/python3.12/site-packages (from snowflake-connector-python<4.0.0,>=3.14.0->snowflake-snowpark-python) (0.13.3)\n",
      "Requirement already satisfied: pycparser in /home/codespace/.local/lib/python3.12/site-packages (from cffi<2.0.0,>=1.9->snowflake-connector-python<4.0.0,>=3.14.0->snowflake-snowpark-python) (2.22)\n",
      "Requirement already satisfied: urllib3<3,>=1.21.1 in /home/codespace/.local/lib/python3.12/site-packages (from requests<3.0.0->snowflake-connector-python<4.0.0,>=3.14.0->snowflake-snowpark-python) (2.5.0)\n",
      "Requirement already satisfied: jmespath<2.0.0,>=0.7.1 in /usr/local/python/3.12.1/lib/python3.12/site-packages (from boto3>=1.24->snowflake-connector-python<4.0.0,>=3.14.0->snowflake-snowpark-python) (1.0.1)\n",
      "Requirement already satisfied: s3transfer<0.14.0,>=0.13.0 in /usr/local/python/3.12.1/lib/python3.12/site-packages (from boto3>=1.24->snowflake-connector-python<4.0.0,>=3.14.0->snowflake-snowpark-python) (0.13.1)\n",
      "Requirement already satisfied: six>=1.5 in /home/codespace/.local/lib/python3.12/site-packages (from python-dateutil->snowflake-snowpark-python) (1.17.0)\n",
      "Downloading snowflake_snowpark_python-1.35.0-py3-none-any.whl (1.7 MB)\n",
      "\u001b[2K   \u001b[90m━━━━━━━━━━━━━━━━━━━━━━━━━━━━━━━━━━━━━━━━\u001b[0m \u001b[32m1.7/1.7 MB\u001b[0m \u001b[31m13.1 MB/s\u001b[0m eta \u001b[36m0:00:00\u001b[0m\n",
      "\u001b[?25hDownloading cloudpickle-3.0.0-py3-none-any.whl (20 kB)\n",
      "Downloading protobuf-5.29.5-cp38-abi3-manylinux2014_x86_64.whl (319 kB)\n",
      "Downloading tzlocal-5.3.1-py3-none-any.whl (18 kB)\n",
      "Downloading wheel-0.45.1-py3-none-any.whl (72 kB)\n",
      "Installing collected packages: wheel, tzlocal, protobuf, cloudpickle, snowflake-snowpark-python\n",
      "\u001b[2K   \u001b[90m━━━━━━━━━━━━━━━━━━━━━━━━━━━━━━━━━━━━━━━━\u001b[0m \u001b[32m5/5\u001b[0m [snowflake-snowpark-python]e-snowpark-python]\n",
      "\u001b[1A\u001b[2KSuccessfully installed cloudpickle-3.0.0 protobuf-5.29.5 snowflake-snowpark-python-1.35.0 tzlocal-5.3.1 wheel-0.45.1\n"
     ]
    }
   ],
   "source": [
    "! pip install snowflake-snowpark-python "
   ]
  },
  {
   "cell_type": "code",
   "execution_count": 42,
   "id": "e9164291",
   "metadata": {},
   "outputs": [
    {
     "name": "stderr",
     "output_type": "stream",
     "text": [
      "/usr/local/python/3.12.1/lib/python3.12/site-packages/snowflake/snowpark/session.py:38: UserWarning: pkg_resources is deprecated as an API. See https://setuptools.pypa.io/en/latest/pkg_resources.html. The pkg_resources package is slated for removal as early as 2025-11-30. Refrain from using this package or pin to Setuptools<81.\n",
      "  import pkg_resources\n"
     ]
    }
   ],
   "source": [
    "from snowflake.snowpark import Session\n",
    "from configparser import ConfigParser\n",
    "import pandas as pd\n",
    "\n",
    "config = ConfigParser()\n",
    "config.read('snow.cfg')\n",
    "params = dict(config['READ'])"
   ]
  },
  {
   "cell_type": "code",
   "execution_count": 43,
   "id": "c9ecea6c",
   "metadata": {},
   "outputs": [],
   "source": [
    "session = Session.builder.configs(params).create()"
   ]
  },
  {
   "cell_type": "code",
   "execution_count": 44,
   "id": "06c6e9b6",
   "metadata": {},
   "outputs": [
    {
     "data": {
      "text/plain": [
       "<snowflake.snowpark.session.Session at 0x75bf8459e8a0>"
      ]
     },
     "execution_count": 44,
     "metadata": {},
     "output_type": "execute_result"
    }
   ],
   "source": [
    "session"
   ]
  },
  {
   "cell_type": "code",
   "execution_count": 45,
   "id": "df5b5554",
   "metadata": {},
   "outputs": [
    {
     "name": "stdout",
     "output_type": "stream",
     "text": [
      "<snowflake.snowpark.dataframe.DataFrame object at 0x75bf765a7ad0>\n"
     ]
    }
   ],
   "source": [
    "print(session.sql(\"SELECT CURRENT_VERSION()\"))"
   ]
  },
  {
   "cell_type": "code",
   "execution_count": 46,
   "id": "61aae354",
   "metadata": {},
   "outputs": [
    {
     "data": {
      "text/plain": [
       "<snowflake.snowpark.dataframe.DataFrame at 0x75bf84580920>"
      ]
     },
     "execution_count": 46,
     "metadata": {},
     "output_type": "execute_result"
    }
   ],
   "source": [
    "query = \"SELECT * FROM ORDERS LIMIT 100;\"\n",
    "# notice that this does not return a DataFrame, it returns a Snowpark DataFrame\n",
    "# also there is no data fetched yet, it is lazy like the cursor in the Snowflake connector\n",
    "# it will not execute the query until you call collect() or show() on the DataFrame\n",
    "session.sql(query)"
   ]
  },
  {
   "cell_type": "markdown",
   "id": "884bd802",
   "metadata": {},
   "source": [
    "#### different ways to fetch the data\n"
   ]
  },
  {
   "cell_type": "code",
   "execution_count": 47,
   "id": "de8d00a9",
   "metadata": {},
   "outputs": [
    {
     "data": {
      "text/plain": [
       "list"
      ]
     },
     "execution_count": 47,
     "metadata": {},
     "output_type": "execute_result"
    }
   ],
   "source": [
    "# using collect() to fetch the data\n",
    "df = session.sql(query).collect()\n",
    "# this returns a list of Row objects, not a pandas DataFrame\n",
    "# to convert it to a pandas DataFrame, you can use the following\n",
    "type(df)"
   ]
  },
  {
   "cell_type": "code",
   "execution_count": 48,
   "id": "593d9a64",
   "metadata": {},
   "outputs": [
    {
     "name": "stdout",
     "output_type": "stream",
     "text": [
      "<class 'pandas.core.frame.DataFrame'>\n",
      "RangeIndex: 100 entries, 0 to 99\n",
      "Data columns (total 9 columns):\n",
      " #   Column           Non-Null Count  Dtype \n",
      "---  ------           --------------  ----- \n",
      " 0   O_ORDERKEY       100 non-null    int64 \n",
      " 1   O_CUSTKEY        100 non-null    int64 \n",
      " 2   O_ORDERSTATUS    100 non-null    object\n",
      " 3   O_TOTALPRICE     100 non-null    object\n",
      " 4   O_ORDERDATE      100 non-null    object\n",
      " 5   O_ORDERPRIORITY  100 non-null    object\n",
      " 6   O_CLERK          100 non-null    object\n",
      " 7   O_SHIPPRIORITY   100 non-null    int64 \n",
      " 8   O_COMMENT        100 non-null    object\n",
      "dtypes: int64(3), object(6)\n",
      "memory usage: 7.2+ KB\n"
     ]
    }
   ],
   "source": [
    "# convert to pandas DataFrame\n",
    "df = pd.DataFrame(df)\n",
    "df.info()"
   ]
  },
  {
   "cell_type": "code",
   "execution_count": 49,
   "id": "cbc6d18b",
   "metadata": {},
   "outputs": [
    {
     "data": {
      "text/html": [
       "<div>\n",
       "<style scoped>\n",
       "    .dataframe tbody tr th:only-of-type {\n",
       "        vertical-align: middle;\n",
       "    }\n",
       "\n",
       "    .dataframe tbody tr th {\n",
       "        vertical-align: top;\n",
       "    }\n",
       "\n",
       "    .dataframe thead th {\n",
       "        text-align: right;\n",
       "    }\n",
       "</style>\n",
       "<table border=\"1\" class=\"dataframe\">\n",
       "  <thead>\n",
       "    <tr style=\"text-align: right;\">\n",
       "      <th></th>\n",
       "      <th>O_ORDERKEY</th>\n",
       "      <th>O_CUSTKEY</th>\n",
       "      <th>O_ORDERSTATUS</th>\n",
       "      <th>O_TOTALPRICE</th>\n",
       "      <th>O_ORDERDATE</th>\n",
       "      <th>O_ORDERPRIORITY</th>\n",
       "      <th>O_CLERK</th>\n",
       "      <th>O_SHIPPRIORITY</th>\n",
       "      <th>O_COMMENT</th>\n",
       "    </tr>\n",
       "  </thead>\n",
       "  <tbody>\n",
       "    <tr>\n",
       "      <th>0</th>\n",
       "      <td>3000001</td>\n",
       "      <td>145618</td>\n",
       "      <td>F</td>\n",
       "      <td>30175.88</td>\n",
       "      <td>1992-12-17</td>\n",
       "      <td>4-NOT SPECIFIED</td>\n",
       "      <td>Clerk#000000141</td>\n",
       "      <td>0</td>\n",
       "      <td>l packages. furiously careful instructions gro...</td>\n",
       "    </tr>\n",
       "    <tr>\n",
       "      <th>1</th>\n",
       "      <td>3000002</td>\n",
       "      <td>1481</td>\n",
       "      <td>O</td>\n",
       "      <td>297999.63</td>\n",
       "      <td>1995-07-28</td>\n",
       "      <td>1-URGENT</td>\n",
       "      <td>Clerk#000000547</td>\n",
       "      <td>0</td>\n",
       "      <td>carefully unusual dependencie</td>\n",
       "    </tr>\n",
       "    <tr>\n",
       "      <th>2</th>\n",
       "      <td>3000003</td>\n",
       "      <td>127432</td>\n",
       "      <td>O</td>\n",
       "      <td>345438.38</td>\n",
       "      <td>1997-11-04</td>\n",
       "      <td>5-LOW</td>\n",
       "      <td>Clerk#000000488</td>\n",
       "      <td>0</td>\n",
       "      <td>n packages boost slyly bold deposits. deposits...</td>\n",
       "    </tr>\n",
       "    <tr>\n",
       "      <th>3</th>\n",
       "      <td>3000004</td>\n",
       "      <td>47423</td>\n",
       "      <td>O</td>\n",
       "      <td>135965.53</td>\n",
       "      <td>1996-06-13</td>\n",
       "      <td>4-NOT SPECIFIED</td>\n",
       "      <td>Clerk#000000004</td>\n",
       "      <td>0</td>\n",
       "      <td>nts wake carefully final decoys. quickly final...</td>\n",
       "    </tr>\n",
       "    <tr>\n",
       "      <th>4</th>\n",
       "      <td>3000005</td>\n",
       "      <td>84973</td>\n",
       "      <td>F</td>\n",
       "      <td>209937.09</td>\n",
       "      <td>1992-09-12</td>\n",
       "      <td>5-LOW</td>\n",
       "      <td>Clerk#000000030</td>\n",
       "      <td>0</td>\n",
       "      <td>yly after the quickly unusual ide</td>\n",
       "    </tr>\n",
       "  </tbody>\n",
       "</table>\n",
       "</div>"
      ],
      "text/plain": [
       "   O_ORDERKEY  O_CUSTKEY O_ORDERSTATUS  O_TOTALPRICE O_ORDERDATE  \\\n",
       "0     3000001     145618             F      30175.88  1992-12-17   \n",
       "1     3000002       1481             O     297999.63  1995-07-28   \n",
       "2     3000003     127432             O     345438.38  1997-11-04   \n",
       "3     3000004      47423             O     135965.53  1996-06-13   \n",
       "4     3000005      84973             F     209937.09  1992-09-12   \n",
       "\n",
       "   O_ORDERPRIORITY          O_CLERK  O_SHIPPRIORITY  \\\n",
       "0  4-NOT SPECIFIED  Clerk#000000141               0   \n",
       "1         1-URGENT  Clerk#000000547               0   \n",
       "2            5-LOW  Clerk#000000488               0   \n",
       "3  4-NOT SPECIFIED  Clerk#000000004               0   \n",
       "4            5-LOW  Clerk#000000030               0   \n",
       "\n",
       "                                           O_COMMENT  \n",
       "0  l packages. furiously careful instructions gro...  \n",
       "1                      carefully unusual dependencie  \n",
       "2  n packages boost slyly bold deposits. deposits...  \n",
       "3  nts wake carefully final decoys. quickly final...  \n",
       "4                  yly after the quickly unusual ide  "
      ]
     },
     "execution_count": 49,
     "metadata": {},
     "output_type": "execute_result"
    }
   ],
   "source": [
    "# another way to fetch data is to use the to_pandas() method\n",
    "df = session.sql(query).to_pandas()\n",
    "df.head()"
   ]
  },
  {
   "cell_type": "code",
   "execution_count": 50,
   "id": "70156f59",
   "metadata": {},
   "outputs": [
    {
     "name": "stdout",
     "output_type": "stream",
     "text": [
      "-----------------------------------------------------------------------------------------------------------------------------------------------------------------------------------------------\n",
      "|\"O_ORDERKEY\"  |\"O_CUSTKEY\"  |\"O_ORDERSTATUS\"  |\"O_TOTALPRICE\"  |\"O_ORDERDATE\"  |\"O_ORDERPRIORITY\"  |\"O_CLERK\"        |\"O_SHIPPRIORITY\"  |\"O_COMMENT\"                                         |\n",
      "-----------------------------------------------------------------------------------------------------------------------------------------------------------------------------------------------\n",
      "|3000001       |145618       |F                |30175.88        |1992-12-17     |4-NOT SPECIFIED    |Clerk#000000141  |0                 |l packages. furiously careful instructions grow...  |\n",
      "|3000002       |1481         |O                |297999.63       |1995-07-28     |1-URGENT           |Clerk#000000547  |0                 |carefully unusual dependencie                       |\n",
      "|3000003       |127432       |O                |345438.38       |1997-11-04     |5-LOW              |Clerk#000000488  |0                 |n packages boost slyly bold deposits. deposits ...  |\n",
      "|3000004       |47423        |O                |135965.53       |1996-06-13     |4-NOT SPECIFIED    |Clerk#000000004  |0                 |nts wake carefully final decoys. quickly final ...  |\n",
      "|3000005       |84973        |F                |209937.09       |1992-09-12     |5-LOW              |Clerk#000000030  |0                 |yly after the quickly unusual ide                   |\n",
      "|3000006       |135136       |O                |140186.32       |1996-09-26     |1-URGENT           |Clerk#000000726  |0                 |ronic pinto beans use furiously final, slow notorn  |\n",
      "|3000007       |78841        |F                |298655.07       |1992-04-13     |5-LOW              |Clerk#000000871  |0                 |ses eat. deposits wake                              |\n",
      "|3000032       |124576       |F                |175973.90       |1992-03-02     |1-URGENT           |Clerk#000000460  |0                 |lar deposits mold carefully against the dep         |\n",
      "|3000033       |30247        |F                |4635.38         |1993-11-10     |1-URGENT           |Clerk#000000923  |0                 |mes special packages nag quickly.                   |\n",
      "|3000034       |5498         |F                |348308.79       |1992-04-21     |1-URGENT           |Clerk#000000418  |0                 |lly final packages are slyly beyond the request...  |\n",
      "-----------------------------------------------------------------------------------------------------------------------------------------------------------------------------------------------\n",
      "\n"
     ]
    }
   ],
   "source": [
    "# you can also use read.table()\n",
    "orders = session.read.table(\"ORDERS\")\n",
    "orders.show()"
   ]
  },
  {
   "cell_type": "code",
   "execution_count": 51,
   "id": "6860f17f",
   "metadata": {},
   "outputs": [
    {
     "data": {
      "text/html": [
       "<div>\n",
       "<style scoped>\n",
       "    .dataframe tbody tr th:only-of-type {\n",
       "        vertical-align: middle;\n",
       "    }\n",
       "\n",
       "    .dataframe tbody tr th {\n",
       "        vertical-align: top;\n",
       "    }\n",
       "\n",
       "    .dataframe thead th {\n",
       "        text-align: right;\n",
       "    }\n",
       "</style>\n",
       "<table border=\"1\" class=\"dataframe\">\n",
       "  <thead>\n",
       "    <tr style=\"text-align: right;\">\n",
       "      <th></th>\n",
       "      <th>O_ORDERKEY</th>\n",
       "      <th>O_CUSTKEY</th>\n",
       "      <th>O_ORDERSTATUS</th>\n",
       "      <th>O_TOTALPRICE</th>\n",
       "      <th>O_ORDERDATE</th>\n",
       "      <th>O_ORDERPRIORITY</th>\n",
       "      <th>O_CLERK</th>\n",
       "      <th>O_SHIPPRIORITY</th>\n",
       "      <th>O_COMMENT</th>\n",
       "    </tr>\n",
       "  </thead>\n",
       "  <tbody>\n",
       "    <tr>\n",
       "      <th>0</th>\n",
       "      <td>3000001</td>\n",
       "      <td>145618</td>\n",
       "      <td>F</td>\n",
       "      <td>30175.88</td>\n",
       "      <td>1992-12-17</td>\n",
       "      <td>4-NOT SPECIFIED</td>\n",
       "      <td>Clerk#000000141</td>\n",
       "      <td>0</td>\n",
       "      <td>l packages. furiously careful instructions gro...</td>\n",
       "    </tr>\n",
       "    <tr>\n",
       "      <th>1</th>\n",
       "      <td>3000002</td>\n",
       "      <td>1481</td>\n",
       "      <td>O</td>\n",
       "      <td>297999.63</td>\n",
       "      <td>1995-07-28</td>\n",
       "      <td>1-URGENT</td>\n",
       "      <td>Clerk#000000547</td>\n",
       "      <td>0</td>\n",
       "      <td>carefully unusual dependencie</td>\n",
       "    </tr>\n",
       "    <tr>\n",
       "      <th>2</th>\n",
       "      <td>3000003</td>\n",
       "      <td>127432</td>\n",
       "      <td>O</td>\n",
       "      <td>345438.38</td>\n",
       "      <td>1997-11-04</td>\n",
       "      <td>5-LOW</td>\n",
       "      <td>Clerk#000000488</td>\n",
       "      <td>0</td>\n",
       "      <td>n packages boost slyly bold deposits. deposits...</td>\n",
       "    </tr>\n",
       "    <tr>\n",
       "      <th>3</th>\n",
       "      <td>3000004</td>\n",
       "      <td>47423</td>\n",
       "      <td>O</td>\n",
       "      <td>135965.53</td>\n",
       "      <td>1996-06-13</td>\n",
       "      <td>4-NOT SPECIFIED</td>\n",
       "      <td>Clerk#000000004</td>\n",
       "      <td>0</td>\n",
       "      <td>nts wake carefully final decoys. quickly final...</td>\n",
       "    </tr>\n",
       "    <tr>\n",
       "      <th>4</th>\n",
       "      <td>3000005</td>\n",
       "      <td>84973</td>\n",
       "      <td>F</td>\n",
       "      <td>209937.09</td>\n",
       "      <td>1992-09-12</td>\n",
       "      <td>5-LOW</td>\n",
       "      <td>Clerk#000000030</td>\n",
       "      <td>0</td>\n",
       "      <td>yly after the quickly unusual ide</td>\n",
       "    </tr>\n",
       "  </tbody>\n",
       "</table>\n",
       "</div>"
      ],
      "text/plain": [
       "   O_ORDERKEY  O_CUSTKEY O_ORDERSTATUS  O_TOTALPRICE O_ORDERDATE  \\\n",
       "0     3000001     145618             F      30175.88  1992-12-17   \n",
       "1     3000002       1481             O     297999.63  1995-07-28   \n",
       "2     3000003     127432             O     345438.38  1997-11-04   \n",
       "3     3000004      47423             O     135965.53  1996-06-13   \n",
       "4     3000005      84973             F     209937.09  1992-09-12   \n",
       "\n",
       "   O_ORDERPRIORITY          O_CLERK  O_SHIPPRIORITY  \\\n",
       "0  4-NOT SPECIFIED  Clerk#000000141               0   \n",
       "1         1-URGENT  Clerk#000000547               0   \n",
       "2            5-LOW  Clerk#000000488               0   \n",
       "3  4-NOT SPECIFIED  Clerk#000000004               0   \n",
       "4            5-LOW  Clerk#000000030               0   \n",
       "\n",
       "                                           O_COMMENT  \n",
       "0  l packages. furiously careful instructions gro...  \n",
       "1                      carefully unusual dependencie  \n",
       "2  n packages boost slyly bold deposits. deposits...  \n",
       "3  nts wake carefully final decoys. quickly final...  \n",
       "4                  yly after the quickly unusual ide  "
      ]
     },
     "execution_count": 51,
     "metadata": {},
     "output_type": "execute_result"
    }
   ],
   "source": [
    "# you can also use read.table() with to_pandas()\n",
    "# you can limit the number of rows returned by using the limit() method\n",
    "orders = session.read.table(\"ORDERS\").limit(100).to_pandas()\n",
    "orders.head()"
   ]
  },
  {
   "cell_type": "code",
   "execution_count": 52,
   "id": "af35c90b",
   "metadata": {},
   "outputs": [
    {
     "name": "stdout",
     "output_type": "stream",
     "text": [
      "<class 'pandas.core.frame.DataFrame'>\n",
      "RangeIndex: 100 entries, 0 to 99\n",
      "Data columns (total 9 columns):\n",
      " #   Column           Non-Null Count  Dtype  \n",
      "---  ------           --------------  -----  \n",
      " 0   O_ORDERKEY       100 non-null    int32  \n",
      " 1   O_CUSTKEY        100 non-null    int32  \n",
      " 2   O_ORDERSTATUS    100 non-null    object \n",
      " 3   O_TOTALPRICE     100 non-null    float64\n",
      " 4   O_ORDERDATE      100 non-null    object \n",
      " 5   O_ORDERPRIORITY  100 non-null    object \n",
      " 6   O_CLERK          100 non-null    object \n",
      " 7   O_SHIPPRIORITY   100 non-null    int8   \n",
      " 8   O_COMMENT        100 non-null    object \n",
      "dtypes: float64(1), int32(2), int8(1), object(5)\n",
      "memory usage: 5.7+ KB\n"
     ]
    }
   ],
   "source": [
    "# you can also use read.table() without to_pandas()\n",
    "# this will return a Snowpark DataFrame \n",
    "# you can also limit the number of rows returned by using the limit() method\n",
    "orders = session.table(\"ORDERS\").limit(100).to_pandas()\n",
    "orders.info()"
   ]
  },
  {
   "cell_type": "markdown",
   "id": "deec9e62",
   "metadata": {},
   "source": [
    "# Lab 2: Writing to Snowflake\n",
    "## Using Snowflake Connector (write_panads)"
   ]
  },
  {
   "cell_type": "code",
   "execution_count": 55,
   "id": "4abdeb6b",
   "metadata": {},
   "outputs": [
    {
     "name": "stdout",
     "output_type": "stream",
     "text": [
      "Collecting yfinance\n",
      "  Downloading yfinance-0.2.65-py2.py3-none-any.whl.metadata (5.8 kB)\n",
      "Requirement already satisfied: pandas>=1.3.0 in /home/codespace/.local/lib/python3.12/site-packages (from yfinance) (2.3.1)\n",
      "Requirement already satisfied: numpy>=1.16.5 in /home/codespace/.local/lib/python3.12/site-packages (from yfinance) (2.3.1)\n",
      "Requirement already satisfied: requests>=2.31 in /home/codespace/.local/lib/python3.12/site-packages (from yfinance) (2.32.4)\n",
      "Collecting multitasking>=0.0.7 (from yfinance)\n",
      "  Downloading multitasking-0.0.12.tar.gz (19 kB)\n",
      "  Preparing metadata (setup.py) ... \u001b[?25ldone\n",
      "\u001b[?25hRequirement already satisfied: platformdirs>=2.0.0 in /home/codespace/.local/lib/python3.12/site-packages (from yfinance) (4.3.8)\n",
      "Requirement already satisfied: pytz>=2022.5 in /home/codespace/.local/lib/python3.12/site-packages (from yfinance) (2025.2)\n",
      "Collecting frozendict>=2.3.4 (from yfinance)\n",
      "  Downloading frozendict-2.4.6-py312-none-any.whl.metadata (23 kB)\n",
      "Collecting peewee>=3.16.2 (from yfinance)\n",
      "  Downloading peewee-3.18.2.tar.gz (949 kB)\n",
      "\u001b[2K     \u001b[90m━━━━━━━━━━━━━━━━━━━━━━━━━━━━━━━━━━━━━━\u001b[0m \u001b[32m949.2/949.2 kB\u001b[0m \u001b[31m20.7 MB/s\u001b[0m eta \u001b[36m0:00:00\u001b[0m\n",
      "\u001b[?25h  Installing build dependencies ... \u001b[?25ldone\n",
      "\u001b[?25h  Getting requirements to build wheel ... \u001b[?25ldone\n",
      "\u001b[?25h  Preparing metadata (pyproject.toml) ... \u001b[?25ldone\n",
      "\u001b[?25hRequirement already satisfied: beautifulsoup4>=4.11.1 in /home/codespace/.local/lib/python3.12/site-packages (from yfinance) (4.13.4)\n",
      "Collecting curl_cffi>=0.7 (from yfinance)\n",
      "  Downloading curl_cffi-0.12.0-cp39-abi3-manylinux_2_17_x86_64.manylinux2014_x86_64.whl.metadata (14 kB)\n",
      "Requirement already satisfied: protobuf>=3.19.0 in /usr/local/python/3.12.1/lib/python3.12/site-packages (from yfinance) (5.29.5)\n",
      "Collecting websockets>=13.0 (from yfinance)\n",
      "  Downloading websockets-15.0.1-cp312-cp312-manylinux_2_5_x86_64.manylinux1_x86_64.manylinux_2_17_x86_64.manylinux2014_x86_64.whl.metadata (6.8 kB)\n",
      "Requirement already satisfied: soupsieve>1.2 in /home/codespace/.local/lib/python3.12/site-packages (from beautifulsoup4>=4.11.1->yfinance) (2.7)\n",
      "Requirement already satisfied: typing-extensions>=4.0.0 in /home/codespace/.local/lib/python3.12/site-packages (from beautifulsoup4>=4.11.1->yfinance) (4.14.1)\n",
      "Requirement already satisfied: cffi>=1.12.0 in /home/codespace/.local/lib/python3.12/site-packages (from curl_cffi>=0.7->yfinance) (1.17.1)\n",
      "Requirement already satisfied: certifi>=2024.2.2 in /home/codespace/.local/lib/python3.12/site-packages (from curl_cffi>=0.7->yfinance) (2025.7.9)\n",
      "Requirement already satisfied: pycparser in /home/codespace/.local/lib/python3.12/site-packages (from cffi>=1.12.0->curl_cffi>=0.7->yfinance) (2.22)\n",
      "Requirement already satisfied: python-dateutil>=2.8.2 in /home/codespace/.local/lib/python3.12/site-packages (from pandas>=1.3.0->yfinance) (2.9.0.post0)\n",
      "Requirement already satisfied: tzdata>=2022.7 in /home/codespace/.local/lib/python3.12/site-packages (from pandas>=1.3.0->yfinance) (2025.2)\n",
      "Requirement already satisfied: six>=1.5 in /home/codespace/.local/lib/python3.12/site-packages (from python-dateutil>=2.8.2->pandas>=1.3.0->yfinance) (1.17.0)\n",
      "Requirement already satisfied: charset_normalizer<4,>=2 in /home/codespace/.local/lib/python3.12/site-packages (from requests>=2.31->yfinance) (3.4.2)\n",
      "Requirement already satisfied: idna<4,>=2.5 in /home/codespace/.local/lib/python3.12/site-packages (from requests>=2.31->yfinance) (3.10)\n",
      "Requirement already satisfied: urllib3<3,>=1.21.1 in /home/codespace/.local/lib/python3.12/site-packages (from requests>=2.31->yfinance) (2.5.0)\n",
      "Downloading yfinance-0.2.65-py2.py3-none-any.whl (119 kB)\n",
      "Downloading curl_cffi-0.12.0-cp39-abi3-manylinux_2_17_x86_64.manylinux2014_x86_64.whl (8.3 MB)\n",
      "\u001b[2K   \u001b[90m━━━━━━━━━━━━━━━━━━━━━━━━━━━━━━━━━━━━━━━━\u001b[0m \u001b[32m8.3/8.3 MB\u001b[0m \u001b[31m51.7 MB/s\u001b[0m eta \u001b[36m0:00:00\u001b[0m\n",
      "\u001b[?25hDownloading frozendict-2.4.6-py312-none-any.whl (16 kB)\n",
      "Downloading websockets-15.0.1-cp312-cp312-manylinux_2_5_x86_64.manylinux1_x86_64.manylinux_2_17_x86_64.manylinux2014_x86_64.whl (182 kB)\n",
      "Building wheels for collected packages: multitasking, peewee\n",
      "\u001b[33m  DEPRECATION: Building 'multitasking' using the legacy setup.py bdist_wheel mechanism, which will be removed in a future version. pip 25.3 will enforce this behaviour change. A possible replacement is to use the standardized build interface by setting the `--use-pep517` option, (possibly combined with `--no-build-isolation`), or adding a `pyproject.toml` file to the source tree of 'multitasking'. Discussion can be found at https://github.com/pypa/pip/issues/6334\u001b[0m\u001b[33m\n",
      "\u001b[0m  Building wheel for multitasking (setup.py) ... \u001b[?25ldone\n",
      "\u001b[?25h  Created wheel for multitasking: filename=multitasking-0.0.12-py3-none-any.whl size=15636 sha256=a4e4db1b1033ccaed095cdf82cc0215d63cf08ba68c62ca2d9cd5e4a7fdc2e4f\n",
      "  Stored in directory: /home/codespace/.cache/pip/wheels/cc/bd/6f/664d62c99327abeef7d86489e6631cbf45b56fbf7ef1d6ef00\n",
      "  Building wheel for peewee (pyproject.toml) ... \u001b[?25ldone\n",
      "\u001b[?25h  Created wheel for peewee: filename=peewee-3.18.2-cp312-cp312-linux_x86_64.whl size=1049312 sha256=1fa9b72088226b6143e627c8141742e5895a0181a12c50f3c938618c7db96261\n",
      "  Stored in directory: /home/codespace/.cache/pip/wheels/d1/df/a9/0202b051c65b11c992dd6db9f2babdd2c44ec7d35d511be5d3\n",
      "Successfully built multitasking peewee\n",
      "Installing collected packages: peewee, multitasking, websockets, frozendict, curl_cffi, yfinance\n",
      "\u001b[2K   \u001b[90m━━━━━━━━━━━━━━━━━━━━━━━━━━━━━━━━━━━━━━━━\u001b[0m \u001b[32m6/6\u001b[0m [yfinance]4/6\u001b[0m [curl_cffi]]\n",
      "\u001b[1A\u001b[2KSuccessfully installed curl_cffi-0.12.0 frozendict-2.4.6 multitasking-0.0.12 peewee-3.18.2 websockets-15.0.1 yfinance-0.2.65\n"
     ]
    }
   ],
   "source": [
    "! pip install yfinance"
   ]
  },
  {
   "cell_type": "code",
   "execution_count": 56,
   "id": "10513672",
   "metadata": {},
   "outputs": [
    {
     "data": {
      "text/html": [
       "<div>\n",
       "<style scoped>\n",
       "    .dataframe tbody tr th:only-of-type {\n",
       "        vertical-align: middle;\n",
       "    }\n",
       "\n",
       "    .dataframe tbody tr th {\n",
       "        vertical-align: top;\n",
       "    }\n",
       "\n",
       "    .dataframe thead th {\n",
       "        text-align: right;\n",
       "    }\n",
       "</style>\n",
       "<table border=\"1\" class=\"dataframe\">\n",
       "  <thead>\n",
       "    <tr style=\"text-align: right;\">\n",
       "      <th></th>\n",
       "      <th>Open</th>\n",
       "      <th>High</th>\n",
       "      <th>Low</th>\n",
       "      <th>Close</th>\n",
       "      <th>Volume</th>\n",
       "    </tr>\n",
       "    <tr>\n",
       "      <th>Date</th>\n",
       "      <th></th>\n",
       "      <th></th>\n",
       "      <th></th>\n",
       "      <th></th>\n",
       "      <th></th>\n",
       "    </tr>\n",
       "  </thead>\n",
       "  <tbody>\n",
       "    <tr>\n",
       "      <th>2020-01-02</th>\n",
       "      <td>71.627084</td>\n",
       "      <td>72.681281</td>\n",
       "      <td>71.373211</td>\n",
       "      <td>72.620834</td>\n",
       "      <td>135480400</td>\n",
       "    </tr>\n",
       "    <tr>\n",
       "      <th>2020-01-03</th>\n",
       "      <td>71.847102</td>\n",
       "      <td>72.676431</td>\n",
       "      <td>71.689942</td>\n",
       "      <td>71.914803</td>\n",
       "      <td>146322800</td>\n",
       "    </tr>\n",
       "    <tr>\n",
       "      <th>2020-01-06</th>\n",
       "      <td>71.034724</td>\n",
       "      <td>72.526549</td>\n",
       "      <td>70.783263</td>\n",
       "      <td>72.487862</td>\n",
       "      <td>118387200</td>\n",
       "    </tr>\n",
       "    <tr>\n",
       "      <th>2020-01-07</th>\n",
       "      <td>72.497537</td>\n",
       "      <td>72.753831</td>\n",
       "      <td>71.926922</td>\n",
       "      <td>72.146950</td>\n",
       "      <td>108872000</td>\n",
       "    </tr>\n",
       "    <tr>\n",
       "      <th>2020-01-08</th>\n",
       "      <td>71.849540</td>\n",
       "      <td>73.609752</td>\n",
       "      <td>71.849540</td>\n",
       "      <td>73.307518</td>\n",
       "      <td>132079200</td>\n",
       "    </tr>\n",
       "  </tbody>\n",
       "</table>\n",
       "</div>"
      ],
      "text/plain": [
       "                 Open       High        Low      Close     Volume\n",
       "Date                                                             \n",
       "2020-01-02  71.627084  72.681281  71.373211  72.620834  135480400\n",
       "2020-01-03  71.847102  72.676431  71.689942  71.914803  146322800\n",
       "2020-01-06  71.034724  72.526549  70.783263  72.487862  118387200\n",
       "2020-01-07  72.497537  72.753831  71.926922  72.146950  108872000\n",
       "2020-01-08  71.849540  73.609752  71.849540  73.307518  132079200"
      ]
     },
     "execution_count": 56,
     "metadata": {},
     "output_type": "execute_result"
    }
   ],
   "source": [
    "import yfinance as yf\n",
    "import pandas as pd\n",
    "\n",
    "def get_stock_data(ticker, start, end=None):\n",
    "    \"\"\"Fetch stock data and return cleaned DataFrame\"\"\"\n",
    "    stock_data = yf.Ticker(ticker)\n",
    "    hist = stock_data.history(start=start, end=end)\n",
    "\n",
    "    # Standardize date format and select key columns\n",
    "    hist.index = hist.index.tz_localize(None).normalize()\n",
    "    return hist[['Open', 'High', 'Low', 'Close', 'Volume']]\n",
    "\n",
    "# Example usage\n",
    "ticker = 'AAPL'\n",
    "start_date = '2020-01-01'\n",
    "end_date = '2023-01-01'\n",
    "apple_stock_data = get_stock_data(ticker, start_date, end_date)\n",
    "apple_stock_data.head()"
   ]
  },
  {
   "cell_type": "code",
   "execution_count": 57,
   "id": "9aadbe8e",
   "metadata": {},
   "outputs": [
    {
     "data": {
      "image/png": "[encoded data removed]",
      "text/plain": [
       "<Figure size 1000x600 with 5 Axes>"
      ]
     },
     "metadata": {},
     "output_type": "display_data"
    }
   ],
   "source": [
    "apple_stock_data.plot(subplots=True, figsize=(10, 6));"
   ]
  },
  {
   "cell_type": "code",
   "execution_count": 58,
   "id": "dad154a6",
   "metadata": {},
   "outputs": [],
   "source": [
    "import pandas as pd\n",
    "from snowflake.connector.pandas_tools import pd_writer\n",
    "from configparser import ConfigParser\n",
    "from snowflake.sqlalchemy import URL\n",
    "from sqlalchemy import create_engine\n",
    "\n",
    "\n",
    "config = ConfigParser()\n",
    "config.read('snow.cfg')\n",
    "config.sections()\n",
    "params = dict(config['WRITE'])"
   ]
  },
  {
   "cell_type": "code",
   "execution_count": 59,
   "id": "8b21c143",
   "metadata": {},
   "outputs": [
    {
     "data": {
      "text/plain": [
       "(756, 6)"
      ]
     },
     "execution_count": 59,
     "metadata": {},
     "output_type": "execute_result"
    }
   ],
   "source": [
    "apple_stock_data = apple_stock_data.reset_index()\n",
    "apple_stock_data.shape"
   ]
  },
  {
   "cell_type": "code",
   "execution_count": 60,
   "id": "613c2e9b",
   "metadata": {},
   "outputs": [],
   "source": [
    "from snowflake import connector\n",
    "from snowflake.connector.pandas_tools import pd_writer, write_pandas"
   ]
  },
  {
   "cell_type": "code",
   "execution_count": 64,
   "id": "baecf845",
   "metadata": {},
   "outputs": [],
   "source": [
    "con = connector.connect(**params)\n",
    "cursor = con.cursor()\n",
    "\n",
    "# write_pandas you can specify the table type and whether to overwrite the table\n",
    "# the write_pandas method will return a tuple with success status, number of chunks, number of rows, and copy_into command\n",
    "success, nchunks, nrows, copy_into = write_pandas(\n",
    "                                            con, \n",
    "                                            apple_stock_data, \n",
    "                                            auto_create_table=True,\n",
    "                                            table_name='AAPL_STOCK_DATA', \n",
    "                                            table_type='transient',\n",
    "                                            overwrite=True)"
   ]
  },
  {
   "cell_type": "code",
   "execution_count": 65,
   "id": "357dc4a9",
   "metadata": {},
   "outputs": [
    {
     "name": "stdout",
     "output_type": "stream",
     "text": [
      "success:  True\n",
      "number of chunks:  1\n",
      "number of rows:  756\n",
      "COPY INTO output [('snowpark_temp_stage_1a6j9q86du/file0.txt', 'LOADED', 756, 756, 1, 0, None, None, None, None)]\n"
     ]
    }
   ],
   "source": [
    "print('success: ', success)\n",
    "print('number of chunks: ', nchunks)\n",
    "print('number of rows: ', nrows)\n",
    "print('COPY INTO output', copy_into)"
   ]
  },
  {
   "cell_type": "code",
   "execution_count": 66,
   "id": "f6efb78b",
   "metadata": {},
   "outputs": [
    {
     "data": {
      "text/plain": [
       "756"
      ]
     },
     "execution_count": 66,
     "metadata": {},
     "output_type": "execute_result"
    }
   ],
   "source": [
    "# let's check if the data is written to Snowflake\n",
    "query = \"SELECT count(*) FROM AAPL_STOCK_DATA;\"\n",
    "count = cursor.execute(query).fetchone()[0]\n",
    "count"
   ]
  },
  {
   "cell_type": "code",
   "execution_count": 67,
   "id": "995170c0",
   "metadata": {},
   "outputs": [
    {
     "data": {
      "text/plain": [
       "[ResultMetadata(name='Date', type_code=0, display_size=None, internal_size=None, precision=38, scale=0, is_nullable=True),\n",
       " ResultMetadata(name='Open', type_code=1, display_size=None, internal_size=None, precision=None, scale=None, is_nullable=True),\n",
       " ResultMetadata(name='High', type_code=1, display_size=None, internal_size=None, precision=None, scale=None, is_nullable=True),\n",
       " ResultMetadata(name='Low', type_code=1, display_size=None, internal_size=None, precision=None, scale=None, is_nullable=True),\n",
       " ResultMetadata(name='Close', type_code=1, display_size=None, internal_size=None, precision=None, scale=None, is_nullable=True),\n",
       " ResultMetadata(name='Volume', type_code=0, display_size=None, internal_size=None, precision=38, scale=0, is_nullable=True)]"
      ]
     },
     "execution_count": 67,
     "metadata": {},
     "output_type": "execute_result"
    }
   ],
   "source": [
    "cursor.describe('SELECT * FROM AAPL_STOCK_DATA LIMIT 10;')"
   ]
  },
  {
   "cell_type": "markdown",
   "id": "4f009f8d",
   "metadata": {},
   "source": [
    "## Using SQL Alchemy"
   ]
  },
  {
   "cell_type": "code",
   "execution_count": 68,
   "id": "482d0a32",
   "metadata": {},
   "outputs": [],
   "source": [
    "import pandas as pd\n",
    "from snowflake.connector.pandas_tools import pd_writer\n",
    "from snowflake.sqlalchemy import URL\n",
    "from sqlalchemy import create_engine\n",
    "\n",
    "config = ConfigParser()\n",
    "config.read('snow.cfg')\n",
    "config.sections()\n",
    "params = dict(config['WRITE'])\n"
   ]
  },
  {
   "cell_type": "code",
   "execution_count": 69,
   "id": "b8575753",
   "metadata": {},
   "outputs": [],
   "source": [
    "url = URL(**params)\n",
    "engine = create_engine(url)"
   ]
  },
  {
   "cell_type": "code",
   "execution_count": 70,
   "id": "68e31c42",
   "metadata": {},
   "outputs": [
    {
     "data": {
      "text/html": [
       "<div>\n",
       "<style scoped>\n",
       "    .dataframe tbody tr th:only-of-type {\n",
       "        vertical-align: middle;\n",
       "    }\n",
       "\n",
       "    .dataframe tbody tr th {\n",
       "        vertical-align: top;\n",
       "    }\n",
       "\n",
       "    .dataframe thead th {\n",
       "        text-align: right;\n",
       "    }\n",
       "</style>\n",
       "<table border=\"1\" class=\"dataframe\">\n",
       "  <thead>\n",
       "    <tr style=\"text-align: right;\">\n",
       "      <th></th>\n",
       "      <th>Open</th>\n",
       "      <th>High</th>\n",
       "      <th>Low</th>\n",
       "      <th>Close</th>\n",
       "      <th>Volume</th>\n",
       "    </tr>\n",
       "    <tr>\n",
       "      <th>Date</th>\n",
       "      <th></th>\n",
       "      <th></th>\n",
       "      <th></th>\n",
       "      <th></th>\n",
       "      <th></th>\n",
       "    </tr>\n",
       "  </thead>\n",
       "  <tbody>\n",
       "    <tr>\n",
       "      <th>2020-01-02</th>\n",
       "      <td>93.750000</td>\n",
       "      <td>94.900497</td>\n",
       "      <td>93.207497</td>\n",
       "      <td>94.900497</td>\n",
       "      <td>80580000</td>\n",
       "    </tr>\n",
       "    <tr>\n",
       "      <th>2020-01-03</th>\n",
       "      <td>93.224998</td>\n",
       "      <td>94.309998</td>\n",
       "      <td>93.224998</td>\n",
       "      <td>93.748497</td>\n",
       "      <td>75288000</td>\n",
       "    </tr>\n",
       "    <tr>\n",
       "      <th>2020-01-06</th>\n",
       "      <td>93.000000</td>\n",
       "      <td>95.184502</td>\n",
       "      <td>93.000000</td>\n",
       "      <td>95.143997</td>\n",
       "      <td>81236000</td>\n",
       "    </tr>\n",
       "    <tr>\n",
       "      <th>2020-01-07</th>\n",
       "      <td>95.224998</td>\n",
       "      <td>95.694504</td>\n",
       "      <td>94.601997</td>\n",
       "      <td>95.343002</td>\n",
       "      <td>80898000</td>\n",
       "    </tr>\n",
       "    <tr>\n",
       "      <th>2020-01-08</th>\n",
       "      <td>94.902000</td>\n",
       "      <td>95.550003</td>\n",
       "      <td>94.321999</td>\n",
       "      <td>94.598503</td>\n",
       "      <td>70160000</td>\n",
       "    </tr>\n",
       "  </tbody>\n",
       "</table>\n",
       "</div>"
      ],
      "text/plain": [
       "                 Open       High        Low      Close    Volume\n",
       "Date                                                            \n",
       "2020-01-02  93.750000  94.900497  93.207497  94.900497  80580000\n",
       "2020-01-03  93.224998  94.309998  93.224998  93.748497  75288000\n",
       "2020-01-06  93.000000  95.184502  93.000000  95.143997  81236000\n",
       "2020-01-07  95.224998  95.694504  94.601997  95.343002  80898000\n",
       "2020-01-08  94.902000  95.550003  94.321999  94.598503  70160000"
      ]
     },
     "execution_count": 70,
     "metadata": {},
     "output_type": "execute_result"
    }
   ],
   "source": [
    "# let's pull amazon stock data using our get_stock_data function\n",
    "# Example usage\n",
    "ticker = 'AMZN'\n",
    "start_date = '2020-01-01'\n",
    "end_date = '2023-01-01'\n",
    "amazon_stock_data = get_stock_data(ticker, start_date, end_date)\n",
    "amazon_stock_data.head()"
   ]
  },
  {
   "cell_type": "code",
   "execution_count": 71,
   "id": "4f7177f2",
   "metadata": {},
   "outputs": [
    {
     "data": {
      "image/png": "[encoded data removed]",
      "text/plain": [
       "<Figure size 1000x600 with 5 Axes>"
      ]
     },
     "metadata": {},
     "output_type": "display_data"
    }
   ],
   "source": [
    "amazon_stock_data.plot(subplots=True, figsize=(10, 6));"
   ]
  },
  {
   "cell_type": "code",
   "execution_count": 73,
   "id": "b4fb94ae",
   "metadata": {},
   "outputs": [
    {
     "data": {
      "text/plain": [
       "(756, 6)"
      ]
     },
     "execution_count": 73,
     "metadata": {},
     "output_type": "execute_result"
    }
   ],
   "source": [
    "amazon_stock_data = amazon_stock_data.reset_index()\n",
    "amazon_stock_data.shape"
   ]
  },
  {
   "cell_type": "code",
   "execution_count": 74,
   "id": "e8c6bbbd",
   "metadata": {},
   "outputs": [
    {
     "data": {
      "text/plain": [
       "756"
      ]
     },
     "execution_count": 74,
     "metadata": {},
     "output_type": "execute_result"
    }
   ],
   "source": [
    "amazon_stock_data.to_sql('amzn_stock_data_alchemy',\n",
    "                         con=engine,\n",
    "                         if_exists='replace',\n",
    "                         index=False)"
   ]
  },
  {
   "cell_type": "code",
   "execution_count": 75,
   "id": "53150249",
   "metadata": {},
   "outputs": [
    {
     "name": "stdout",
     "output_type": "stream",
     "text": [
      "<class 'pandas.core.frame.DataFrame'>\n",
      "RangeIndex: 756 entries, 0 to 755\n",
      "Data columns (total 6 columns):\n",
      " #   Column  Non-Null Count  Dtype         \n",
      "---  ------  --------------  -----         \n",
      " 0   Date    756 non-null    datetime64[ns]\n",
      " 1   Open    756 non-null    float64       \n",
      " 2   High    756 non-null    float64       \n",
      " 3   Low     756 non-null    float64       \n",
      " 4   Close   756 non-null    float64       \n",
      " 5   Volume  756 non-null    float64       \n",
      "dtypes: datetime64[ns](1), float64(5)\n",
      "memory usage: 35.6 KB\n"
     ]
    }
   ],
   "source": [
    "pd.read_sql_table('amzn_stock_data_alchemy', \n",
    "                  engine).info()"
   ]
  },
  {
   "cell_type": "markdown",
   "id": "e611cc43",
   "metadata": {},
   "source": [
    "## Using Snowpark"
   ]
  },
  {
   "cell_type": "code",
   "execution_count": 76,
   "id": "ee02455e",
   "metadata": {},
   "outputs": [],
   "source": [
    "from snowflake.snowpark import Session\n",
    "import pandas as pd\n",
    "\n",
    "config = ConfigParser()\n",
    "config.read('snow.cfg')\n",
    "config.sections()\n",
    "params = dict(config['WRITE'])"
   ]
  },
  {
   "cell_type": "code",
   "execution_count": 77,
   "id": "b0eebe1d",
   "metadata": {},
   "outputs": [],
   "source": [
    "session = Session.builder.configs(params).create()"
   ]
  },
  {
   "cell_type": "code",
   "execution_count": 78,
   "id": "cf123516",
   "metadata": {},
   "outputs": [
    {
     "data": {
      "text/html": [
       "<div>\n",
       "<style scoped>\n",
       "    .dataframe tbody tr th:only-of-type {\n",
       "        vertical-align: middle;\n",
       "    }\n",
       "\n",
       "    .dataframe tbody tr th {\n",
       "        vertical-align: top;\n",
       "    }\n",
       "\n",
       "    .dataframe thead th {\n",
       "        text-align: right;\n",
       "    }\n",
       "</style>\n",
       "<table border=\"1\" class=\"dataframe\">\n",
       "  <thead>\n",
       "    <tr style=\"text-align: right;\">\n",
       "      <th></th>\n",
       "      <th>Open</th>\n",
       "      <th>High</th>\n",
       "      <th>Low</th>\n",
       "      <th>Close</th>\n",
       "      <th>Volume</th>\n",
       "    </tr>\n",
       "    <tr>\n",
       "      <th>Date</th>\n",
       "      <th></th>\n",
       "      <th></th>\n",
       "      <th></th>\n",
       "      <th></th>\n",
       "      <th></th>\n",
       "    </tr>\n",
       "  </thead>\n",
       "  <tbody>\n",
       "    <tr>\n",
       "      <th>2020-01-02</th>\n",
       "      <td>5.942872</td>\n",
       "      <td>5.971746</td>\n",
       "      <td>5.892342</td>\n",
       "      <td>5.971746</td>\n",
       "      <td>237536000</td>\n",
       "    </tr>\n",
       "    <tr>\n",
       "      <th>2020-01-03</th>\n",
       "      <td>5.852020</td>\n",
       "      <td>5.919974</td>\n",
       "      <td>5.827128</td>\n",
       "      <td>5.876164</td>\n",
       "      <td>205384000</td>\n",
       "    </tr>\n",
       "    <tr>\n",
       "      <th>2020-01-06</th>\n",
       "      <td>5.782820</td>\n",
       "      <td>5.906033</td>\n",
       "      <td>5.756684</td>\n",
       "      <td>5.900806</td>\n",
       "      <td>262636000</td>\n",
       "    </tr>\n",
       "    <tr>\n",
       "      <th>2020-01-07</th>\n",
       "      <td>5.929183</td>\n",
       "      <td>6.018046</td>\n",
       "      <td>5.884129</td>\n",
       "      <td>5.972245</td>\n",
       "      <td>314856000</td>\n",
       "    </tr>\n",
       "    <tr>\n",
       "      <th>2020-01-08</th>\n",
       "      <td>5.968013</td>\n",
       "      <td>6.024766</td>\n",
       "      <td>5.927938</td>\n",
       "      <td>5.983446</td>\n",
       "      <td>277108000</td>\n",
       "    </tr>\n",
       "  </tbody>\n",
       "</table>\n",
       "</div>"
      ],
      "text/plain": [
       "                Open      High       Low     Close     Volume\n",
       "Date                                                         \n",
       "2020-01-02  5.942872  5.971746  5.892342  5.971746  237536000\n",
       "2020-01-03  5.852020  5.919974  5.827128  5.876164  205384000\n",
       "2020-01-06  5.782820  5.906033  5.756684  5.900806  262636000\n",
       "2020-01-07  5.929183  6.018046  5.884129  5.972245  314856000\n",
       "2020-01-08  5.968013  6.024766  5.927938  5.983446  277108000"
      ]
     },
     "execution_count": 78,
     "metadata": {},
     "output_type": "execute_result"
    }
   ],
   "source": [
    "# let's use our get_stock_data function to fetch Nvidia stock data\n",
    "ticker = 'NVDA'\n",
    "start_date = '2020-01-01'\n",
    "end_date = '2023-01-01'\n",
    "nvidia_stock_data = get_stock_data(ticker, start_date, end_date)\n",
    "nvidia_stock_data.head()"
   ]
  },
  {
   "cell_type": "code",
   "execution_count": 79,
   "id": "f6e85b15",
   "metadata": {},
   "outputs": [
    {
     "data": {
      "image/png": "[encoded data removed]",
      "text/plain": [
       "<Figure size 1000x600 with 5 Axes>"
      ]
     },
     "metadata": {},
     "output_type": "display_data"
    }
   ],
   "source": [
    "nvidia_stock_data.plot(subplots=True, figsize=(10, 6));"
   ]
  },
  {
   "cell_type": "code",
   "execution_count": 80,
   "id": "a252e838",
   "metadata": {},
   "outputs": [
    {
     "data": {
      "text/plain": [
       "<snowflake.snowpark.table.Table at 0x75bf747b4740>"
      ]
     },
     "execution_count": 80,
     "metadata": {},
     "output_type": "execute_result"
    }
   ],
   "source": [
    "nvidia_stock_data = nvidia_stock_data.reset_index()\n",
    "nvidia_snowpark_df = session.create_dataframe(nvidia_stock_data)\n",
    "# we are converting the pandas DataFrame to a Snowpark DataFrame\n",
    "nvidia_snowpark_df"
   ]
  },
  {
   "cell_type": "code",
   "execution_count": 81,
   "id": "3dadd27b",
   "metadata": {},
   "outputs": [],
   "source": [
    "# create a new temporary table in Snowflake\n",
    "# updated to make it temporary table type\n",
    "nvidia_snowpark_df.write.mode('overwrite').save_as_table('NVDA_STOCK_DATA', table_type='temporary')"
   ]
  },
  {
   "cell_type": "code",
   "execution_count": 82,
   "id": "8fbfbc58",
   "metadata": {},
   "outputs": [
    {
     "data": {
      "text/html": [
       "<div>\n",
       "<style scoped>\n",
       "    .dataframe tbody tr th:only-of-type {\n",
       "        vertical-align: middle;\n",
       "    }\n",
       "\n",
       "    .dataframe tbody tr th {\n",
       "        vertical-align: top;\n",
       "    }\n",
       "\n",
       "    .dataframe thead th {\n",
       "        text-align: right;\n",
       "    }\n",
       "</style>\n",
       "<table border=\"1\" class=\"dataframe\">\n",
       "  <thead>\n",
       "    <tr style=\"text-align: right;\">\n",
       "      <th></th>\n",
       "      <th>Date</th>\n",
       "      <th>Open</th>\n",
       "      <th>High</th>\n",
       "      <th>Low</th>\n",
       "      <th>Close</th>\n",
       "      <th>Volume</th>\n",
       "    </tr>\n",
       "  </thead>\n",
       "  <tbody>\n",
       "    <tr>\n",
       "      <th>0</th>\n",
       "      <td>2020-01-02</td>\n",
       "      <td>5.942872</td>\n",
       "      <td>5.971746</td>\n",
       "      <td>5.892342</td>\n",
       "      <td>5.971746</td>\n",
       "      <td>237536000</td>\n",
       "    </tr>\n",
       "    <tr>\n",
       "      <th>1</th>\n",
       "      <td>2020-01-03</td>\n",
       "      <td>5.852020</td>\n",
       "      <td>5.919974</td>\n",
       "      <td>5.827128</td>\n",
       "      <td>5.876164</td>\n",
       "      <td>205384000</td>\n",
       "    </tr>\n",
       "    <tr>\n",
       "      <th>2</th>\n",
       "      <td>2020-01-06</td>\n",
       "      <td>5.782820</td>\n",
       "      <td>5.906033</td>\n",
       "      <td>5.756684</td>\n",
       "      <td>5.900806</td>\n",
       "      <td>262636000</td>\n",
       "    </tr>\n",
       "    <tr>\n",
       "      <th>3</th>\n",
       "      <td>2020-01-07</td>\n",
       "      <td>5.929183</td>\n",
       "      <td>6.018046</td>\n",
       "      <td>5.884129</td>\n",
       "      <td>5.972245</td>\n",
       "      <td>314856000</td>\n",
       "    </tr>\n",
       "    <tr>\n",
       "      <th>4</th>\n",
       "      <td>2020-01-08</td>\n",
       "      <td>5.968013</td>\n",
       "      <td>6.024766</td>\n",
       "      <td>5.927938</td>\n",
       "      <td>5.983446</td>\n",
       "      <td>277108000</td>\n",
       "    </tr>\n",
       "  </tbody>\n",
       "</table>\n",
       "</div>"
      ],
      "text/plain": [
       "        Date      Open      High       Low     Close     Volume\n",
       "0 2020-01-02  5.942872  5.971746  5.892342  5.971746  237536000\n",
       "1 2020-01-03  5.852020  5.919974  5.827128  5.876164  205384000\n",
       "2 2020-01-06  5.782820  5.906033  5.756684  5.900806  262636000\n",
       "3 2020-01-07  5.929183  6.018046  5.884129  5.972245  314856000\n",
       "4 2020-01-08  5.968013  6.024766  5.927938  5.983446  277108000"
      ]
     },
     "execution_count": 82,
     "metadata": {},
     "output_type": "execute_result"
    }
   ],
   "source": [
    "# let's read the data back from Snowflake\n",
    "nvidia_read_snowpark_df = session.table('NVDA_STOCK_DATA')\n",
    "nvidia_pandas = nvidia_read_snowpark_df.to_pandas()\n",
    "nvidia_pandas.head()"
   ]
  },
  {
   "cell_type": "code",
   "execution_count": 83,
   "id": "b4f9f6d7",
   "metadata": {},
   "outputs": [],
   "source": [
    "# Snowparl also offers us a write_pandas method similar to the Snowflake connector\n",
    "# this way we can write the pandas DataFrame directly to Snowflake\n",
    "# we can specify the table type and whether to overwrite the table\n",
    "snowpark_df = session.write_pandas(nvidia_stock_data,\n",
    "                                    table_name='NVDA_STOCK_DATA_SP',\n",
    "                                    auto_create_table=True,\n",
    "                                    table_type='temporary',\n",
    "                                    overwrite=True)"
   ]
  },
  {
   "cell_type": "code",
   "execution_count": 84,
   "id": "b3a673cc",
   "metadata": {},
   "outputs": [
    {
     "data": {
      "text/plain": [
       "<snowflake.snowpark.table.Table at 0x75bf748f2d20>"
      ]
     },
     "execution_count": 84,
     "metadata": {},
     "output_type": "execute_result"
    }
   ],
   "source": [
    "# the returned object is a Snowpark DataFrame\n",
    "snowpark_df"
   ]
  },
  {
   "cell_type": "code",
   "execution_count": null,
   "id": "6b163250",
   "metadata": {},
   "outputs": [],
   "source": []
  }
 ],
 "metadata": {
  "kernelspec": {
   "display_name": "Python 3",
   "language": "python",
   "name": "python3"
  },
  "language_info": {
   "codemirror_mode": {
    "name": "ipython",
    "version": 3
   },
   "file_extension": ".py",
   "mimetype": "text/x-python",
   "name": "python",
   "nbconvert_exporter": "python",
   "pygments_lexer": "ipython3",
   "version": "3.12.1"
  }
 },
 "nbformat": 4,
 "nbformat_minor": 5
}
